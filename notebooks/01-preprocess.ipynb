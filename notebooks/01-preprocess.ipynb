{
 "cells": [
  {
   "cell_type": "code",
   "execution_count": 1,
   "id": "d9046ae0-bbea-4e4e-8939-3898a44473dc",
   "metadata": {
    "tags": []
   },
   "outputs": [],
   "source": [
    "import os\n",
    "import scanpy as sc\n",
    "import seaborn as sns\n",
    "import matplotlib.pyplot as plt\n",
    "import pandas as pd\n",
    "import numpy as np"
   ]
  },
  {
   "cell_type": "code",
   "execution_count": 2,
   "id": "328cc26a-a9fa-4a23-bfb4-573f2dad7141",
   "metadata": {
    "tags": []
   },
   "outputs": [],
   "source": [
    "## Warning suppression to keep console clean\n",
    "import warnings\n",
    "warnings.simplefilter(\"ignore\", FutureWarning)\n",
    "warnings.simplefilter(\"ignore\", UserWarning)\n",
    "warnings.simplefilter(\"ignore\", RuntimeWarning)\n",
    "pd.options.mode.chained_assignment = None"
   ]
  },
  {
   "cell_type": "markdown",
   "id": "fe7547c5-0653-46fc-b557-9f5026dc753c",
   "metadata": {},
   "source": [
    "# Loading metadata"
   ]
  },
  {
   "cell_type": "code",
   "execution_count": 3,
   "id": "67053e02-837b-4a30-90c9-54d0d6a3dba3",
   "metadata": {
    "tags": []
   },
   "outputs": [],
   "source": [
    "os.chdir('/scratch/ei56/pa3687/ild-pathwayAnalysis-bal-scRNA')"
   ]
  },
  {
   "cell_type": "code",
   "execution_count": 4,
   "id": "17d99015-91e4-4e4e-8086-93c906b6b736",
   "metadata": {
    "tags": []
   },
   "outputs": [],
   "source": [
    "meta_filepath = \"data/01-raw/case_metadata.csv\"\n",
    "sample_loc_filepath = \"data/01-raw/cellbender_output_loc.csv\"\n",
    "\n",
    "meta = pd.read_csv(meta_filepath)\n",
    "sample_loc = pd.read_csv(sample_loc_filepath)\n"
   ]
  },
  {
   "cell_type": "code",
   "execution_count": 5,
   "id": "93521a6f",
   "metadata": {},
   "outputs": [],
   "source": [
    "# correct spacing issue\n",
    "meta.columns = meta.columns.str.replace(' ', '')\n",
    "meta.columns.values\n",
    "\n",
    "meta.loc[:, meta.columns != 'notes'] = meta.loc[:, meta.columns != 'notes'].applymap(lambda x: x.replace(' ', '') if isinstance(x, str) else x)"
   ]
  },
  {
   "cell_type": "code",
   "execution_count": 6,
   "id": "2253e6c8-418f-4760-a3b1-e01a87961644",
   "metadata": {
    "execution": {
     "iopub.execute_input": "2024-07-03T02:11:28.960811Z",
     "iopub.status.busy": "2024-07-03T02:11:28.960134Z",
     "iopub.status.idle": "2024-07-03T02:11:28.978050Z",
     "shell.execute_reply": "2024-07-03T02:11:28.977064Z",
     "shell.execute_reply.started": "2024-07-03T02:11:28.960773Z"
    }
   },
   "outputs": [],
   "source": [
    "## Isolating the BAL Samples\n",
    "sample_loc_bal = sample_loc[sample_loc['sample_name'].str.contains(\"BAL\") | sample_loc['sample_name'].isin([\"RZ725_Pool4\", \"RZ725_Pool5\", \"RZ734_Pool_1\", \"RZ734_Pool_2\", \"RZ734_Pool_3\"])]\n",
    "sample_loc_bal = sample_loc_bal.reset_index(drop=True)\n",
    "\n",
    "## Identifying the matching PBMC samples\n",
    "meta_couples = meta['cc_id'].value_counts()[meta['cc_id'].value_counts() > 1].index.tolist()\n",
    "\n",
    "bal_mapping = meta[meta['cc_id'].isin(meta_couples)][['gwccg_research_id', 'cc_id']]\n",
    "bal_mapping['secondary_gwccg_research_id'] = bal_mapping.groupby('cc_id')['gwccg_research_id'].shift(-1)\n",
    "bal_mapping = bal_mapping.dropna(subset=['secondary_gwccg_research_id'])"
   ]
  },
  {
   "cell_type": "code",
   "execution_count": 7,
   "id": "eea94329",
   "metadata": {},
   "outputs": [
    {
     "data": {
      "text/html": [
       "<div>\n",
       "<style scoped>\n",
       "    .dataframe tbody tr th:only-of-type {\n",
       "        vertical-align: middle;\n",
       "    }\n",
       "\n",
       "    .dataframe tbody tr th {\n",
       "        vertical-align: top;\n",
       "    }\n",
       "\n",
       "    .dataframe thead th {\n",
       "        text-align: right;\n",
       "    }\n",
       "</style>\n",
       "<table border=\"1\" class=\"dataframe\">\n",
       "  <thead>\n",
       "    <tr style=\"text-align: right;\">\n",
       "      <th></th>\n",
       "      <th>gwccg_research_id</th>\n",
       "      <th>cc_id</th>\n",
       "      <th>secondary_gwccg_research_id</th>\n",
       "    </tr>\n",
       "  </thead>\n",
       "  <tbody>\n",
       "    <tr>\n",
       "      <th>0</th>\n",
       "      <td>P19_RZ725</td>\n",
       "      <td>MD1738</td>\n",
       "      <td>B12_RZ725</td>\n",
       "    </tr>\n",
       "    <tr>\n",
       "      <th>2</th>\n",
       "      <td>RZ734_15B</td>\n",
       "      <td>IMP160</td>\n",
       "      <td>RZ734_15P</td>\n",
       "    </tr>\n",
       "    <tr>\n",
       "      <th>4</th>\n",
       "      <td>RZ734_13B</td>\n",
       "      <td>IMP157</td>\n",
       "      <td>RZ734_13P</td>\n",
       "    </tr>\n",
       "    <tr>\n",
       "      <th>6</th>\n",
       "      <td>RZ734_14B</td>\n",
       "      <td>IMP152</td>\n",
       "      <td>RZ734_14P</td>\n",
       "    </tr>\n",
       "    <tr>\n",
       "      <th>8</th>\n",
       "      <td>RZ734_7B</td>\n",
       "      <td>IMP137</td>\n",
       "      <td>RZ734_7P</td>\n",
       "    </tr>\n",
       "    <tr>\n",
       "      <th>10</th>\n",
       "      <td>P12_RZ725</td>\n",
       "      <td>IMP075</td>\n",
       "      <td>B9_RZ725</td>\n",
       "    </tr>\n",
       "    <tr>\n",
       "      <th>12</th>\n",
       "      <td>P10_RZ725</td>\n",
       "      <td>IMP074</td>\n",
       "      <td>B7_RZ725</td>\n",
       "    </tr>\n",
       "    <tr>\n",
       "      <th>15</th>\n",
       "      <td>RZ734_16B</td>\n",
       "      <td>CCHS045</td>\n",
       "      <td>RZ734_16P</td>\n",
       "    </tr>\n",
       "    <tr>\n",
       "      <th>17</th>\n",
       "      <td>RZ734_5B</td>\n",
       "      <td>CCHS041</td>\n",
       "      <td>RZ734_5P</td>\n",
       "    </tr>\n",
       "    <tr>\n",
       "      <th>20</th>\n",
       "      <td>RZ734_8B</td>\n",
       "      <td>CCHS035</td>\n",
       "      <td>RZ734_8P</td>\n",
       "    </tr>\n",
       "    <tr>\n",
       "      <th>22</th>\n",
       "      <td>P4_RZ725</td>\n",
       "      <td>CCHS034</td>\n",
       "      <td>B2_RZ725</td>\n",
       "    </tr>\n",
       "    <tr>\n",
       "      <th>24</th>\n",
       "      <td>P2_RZ725</td>\n",
       "      <td>CCHS029</td>\n",
       "      <td>B1_RZ725</td>\n",
       "    </tr>\n",
       "    <tr>\n",
       "      <th>26</th>\n",
       "      <td>P16_RZ725</td>\n",
       "      <td>CCHS026</td>\n",
       "      <td>B3_RZ725</td>\n",
       "    </tr>\n",
       "    <tr>\n",
       "      <th>28</th>\n",
       "      <td>RZ734_9B</td>\n",
       "      <td>CCHS025</td>\n",
       "      <td>RZ734_9P</td>\n",
       "    </tr>\n",
       "    <tr>\n",
       "      <th>30</th>\n",
       "      <td>RZ734_11B</td>\n",
       "      <td>CCHS024</td>\n",
       "      <td>RZ734_11P</td>\n",
       "    </tr>\n",
       "    <tr>\n",
       "      <th>32</th>\n",
       "      <td>P8_RZ725</td>\n",
       "      <td>CCHS023</td>\n",
       "      <td>B6_RZ725</td>\n",
       "    </tr>\n",
       "    <tr>\n",
       "      <th>34</th>\n",
       "      <td>P11_RZ725</td>\n",
       "      <td>CCHS005</td>\n",
       "      <td>B8_RZ725</td>\n",
       "    </tr>\n",
       "    <tr>\n",
       "      <th>36</th>\n",
       "      <td>RZ734_10B</td>\n",
       "      <td>CCHS002</td>\n",
       "      <td>RZ734_10P</td>\n",
       "    </tr>\n",
       "    <tr>\n",
       "      <th>40</th>\n",
       "      <td>P6_RZ725</td>\n",
       "      <td>CC406</td>\n",
       "      <td>B5_RZ725</td>\n",
       "    </tr>\n",
       "    <tr>\n",
       "      <th>46</th>\n",
       "      <td>RZ734_12B</td>\n",
       "      <td>CC361</td>\n",
       "      <td>RZ734_12P</td>\n",
       "    </tr>\n",
       "    <tr>\n",
       "      <th>50</th>\n",
       "      <td>P13_RZ725</td>\n",
       "      <td>CCHS006</td>\n",
       "      <td>B10_RZ725</td>\n",
       "    </tr>\n",
       "  </tbody>\n",
       "</table>\n",
       "</div>"
      ],
      "text/plain": [
       "   gwccg_research_id    cc_id secondary_gwccg_research_id\n",
       "0          P19_RZ725   MD1738                   B12_RZ725\n",
       "2          RZ734_15B   IMP160                   RZ734_15P\n",
       "4          RZ734_13B   IMP157                   RZ734_13P\n",
       "6          RZ734_14B   IMP152                   RZ734_14P\n",
       "8           RZ734_7B   IMP137                    RZ734_7P\n",
       "10         P12_RZ725   IMP075                    B9_RZ725\n",
       "12         P10_RZ725   IMP074                    B7_RZ725\n",
       "15         RZ734_16B  CCHS045                   RZ734_16P\n",
       "17          RZ734_5B  CCHS041                    RZ734_5P\n",
       "20          RZ734_8B  CCHS035                    RZ734_8P\n",
       "22          P4_RZ725  CCHS034                    B2_RZ725\n",
       "24          P2_RZ725  CCHS029                    B1_RZ725\n",
       "26         P16_RZ725  CCHS026                    B3_RZ725\n",
       "28          RZ734_9B  CCHS025                    RZ734_9P\n",
       "30         RZ734_11B  CCHS024                   RZ734_11P\n",
       "32          P8_RZ725  CCHS023                    B6_RZ725\n",
       "34         P11_RZ725  CCHS005                    B8_RZ725\n",
       "36         RZ734_10B  CCHS002                   RZ734_10P\n",
       "40          P6_RZ725    CC406                    B5_RZ725\n",
       "46         RZ734_12B    CC361                   RZ734_12P\n",
       "50         P13_RZ725  CCHS006                   B10_RZ725"
      ]
     },
     "execution_count": 7,
     "metadata": {},
     "output_type": "execute_result"
    }
   ],
   "source": [
    "bal_mapping"
   ]
  },
  {
   "cell_type": "markdown",
   "id": "1a9c4871-b3aa-482c-bae7-8d06757cb35d",
   "metadata": {},
   "source": [
    "# Plot the Ambient RNA (CellBender) Metrics"
   ]
  },
  {
   "cell_type": "code",
   "execution_count": 8,
   "id": "8163bf67-6980-4a4c-94c3-6c0f92a08889",
   "metadata": {
    "execution": {
     "iopub.execute_input": "2024-07-03T02:11:28.982849Z",
     "iopub.status.busy": "2024-07-03T02:11:28.982286Z",
     "iopub.status.idle": "2024-07-03T02:11:29.234482Z",
     "shell.execute_reply": "2024-07-03T02:11:29.233700Z",
     "shell.execute_reply.started": "2024-07-03T02:11:28.982813Z"
    },
    "scrolled": true
   },
   "outputs": [
    {
     "data": {
      "image/png": "[encoded data removed]",
      "text/plain": [
       "<Figure size 432x288 with 1 Axes>"
      ]
     },
     "metadata": {
      "needs_background": "light"
     },
     "output_type": "display_data"
    }
   ],
   "source": [
    "metrics = []\n",
    "for sample in sample_loc_bal[\"sample_name\"]:\n",
    "  _ = pd.read_csv(\"data/01-raw/02-cellBenderOutput-ambientRNA/\" + sample + \"/cellbender_output_metrics.csv\",\n",
    "                  header = None, names = [\"Metric\", \"Value\"]).set_index(\"Metric\").T\n",
    "\n",
    "  _[\"Sample\"] = sample\n",
    "  metrics.append(_)\n",
    "\n",
    "metrics = pd.concat(metrics).reset_index()\n",
    "metrics.hist(\"fraction_counts_removed\")\n",
    "plt.show()"
   ]
  },
  {
   "cell_type": "markdown",
   "id": "a12a1c91-a77a-47e2-b365-0568ed97e17b",
   "metadata": {},
   "source": [
    "# Load adatas"
   ]
  },
  {
   "cell_type": "code",
   "execution_count": 19,
   "id": "dfa31f64-211f-47fa-86ce-d229de43ad3b",
   "metadata": {
    "execution": {
     "iopub.execute_input": "2024-07-03T02:11:29.236442Z",
     "iopub.status.busy": "2024-07-03T02:11:29.236209Z",
     "iopub.status.idle": "2024-07-03T02:11:29.254288Z",
     "shell.execute_reply": "2024-07-03T02:11:29.253508Z",
     "shell.execute_reply.started": "2024-07-03T02:11:29.236421Z"
    }
   },
   "outputs": [],
   "source": [
    "def load_metadata(meta, keys):\n",
    "    return {key: pd.Series(meta[key].values, index=meta['gwccg_research_id']).to_dict() for key in keys}\n",
    "\n",
    "def update_obs_with_metadata(adata, meta):\n",
    "    metadata_keys = [\n",
    "        'disease_final', 'sex', 'age_at_sampling',\n",
    "        'antifibrotics', 'immunosuppression',\n",
    "        'telomere_length', 'smoking_0_ex1_current2'\n",
    "    ]\n",
    "\n",
    "    # Create a mapping from gwccg_research_id to metadata\n",
    "    meta_mapping = {row['gwccg_research_id']: row for _, row in meta.iterrows()}\n",
    "\n",
    "    # Initialize new columns in adata.obs with NaN\n",
    "    for key in metadata_keys:\n",
    "        adata.obs[key] = np.nan\n",
    "\n",
    "    # Update adata.obs with metadata\n",
    "    for sample in adata.obs['Sample']:\n",
    "        if sample in meta_mapping:\n",
    "            for key in metadata_keys:\n",
    "                adata.obs.at[sample, key] = meta_mapping[sample][key]\n",
    "\n",
    "def process_doublet_barcodes(adata, sample, is_bal):\n",
    "    data_dir = \"data/01-raw/01-demultiplexed/\"\n",
    "    doublet_barcodes = pd.read_csv(f\"{data_dir}{sample}/combined_results_w_combined_assignments.tsv\", delimiter=\"\\t\")\n",
    "    doublet_barcodes = doublet_barcodes[doublet_barcodes['Barcode'].isin(adata.obs.index)].copy()\n",
    "\n",
    "    adata = adata[doublet_barcodes['Barcode']].copy()\n",
    "\n",
    "\n",
    "    # Assign Sample based on is_bal condition\n",
    "    if is_bal:\n",
    "        adata.obs['Sample'] = sample\n",
    "    else:\n",
    "        adata.obs['Sample'] = doublet_barcodes['MajoritySinglet_Individual_Assignment'].str.replace(\"0_\", \"\").str.replace(\"-\", \"_\").values\n",
    "\n",
    "    adata.obs['Doublet'] = doublet_barcodes['MajoritySinglet_DropletType'].values\n",
    "    adata.obs['Barcode'] = adata.obs.index\n",
    "    adata.obs = adata.obs.set_index('Sample', drop=False)\n",
    "\n",
    "    return adata, doublet_barcodes\n",
    "\n",
    "def update_sample_names(adata, bal_mapping):\n",
    "    for i, sampleName in enumerate(adata.obs['Sample']):\n",
    "        if sampleName not in ['doublet', 'unassigned']:\n",
    "            if 'P' in sampleName:\n",
    "                row_index, col_index = np.where(bal_mapping == sampleName)\n",
    "                if col_index.size > 0:  # Check if col_index is not empty\n",
    "                    if col_index[0] == 1:\n",
    "                        adata.obs['Sample'].iat[i] = bal_mapping.iloc[row_index[0], 2]\n",
    "                    else:\n",
    "                        adata.obs['Sample'].iat[i] = bal_mapping.iloc[row_index[0], 0]\n",
    "\n",
    "\n",
    "def load_adata(sample, location, bal_mapping, meta):\n",
    "    print(f'Processing Sample: {sample}')\n",
    "\n",
    "    # Importing Data\n",
    "    adata = sc.read_10x_h5(location)\n",
    "\n",
    "    # Initialize obs with sample information\n",
    "    adata.obs['Sample'] = sample\n",
    "    adata.obs['Pool'] = sample\n",
    "\n",
    "    is_bal = \"BAL_\" in sample\n",
    "    adata, doublet_barcodes = process_doublet_barcodes(adata, sample, is_bal)\n",
    "\n",
    "    # Update obs with metadata\n",
    "    update_obs_with_metadata(adata, meta)\n",
    "\n",
    "    adata.obs['10X_chemistry'] = \"v2\" if is_bal else \"v3\"\n",
    "\n",
    "    # Set unique index based on condition for each row\n",
    "    adata.obs['new_index'] = adata.obs['Barcode'] + '-' + adata.obs['Sample'] + (('-' + adata.obs['disease_final']).where(adata.obs['disease_final'].notna(), ''))\n",
    "\n",
    "    adata.obs = adata.obs.set_index('new_index')\n",
    "\n",
    "    if not is_bal:\n",
    "        update_sample_names(adata, bal_mapping)\n",
    "\n",
    "\n",
    "    # Subset adata to only include samples that match meta['gwccg_research_id']\n",
    "    adata = adata[adata.obs['Sample'].isin(meta['gwccg_research_id'])].copy()\n",
    "\n",
    "    return adata"
   ]
  },
  {
   "cell_type": "code",
   "execution_count": 20,
   "id": "e257b9b8-3cfd-49d0-8c70-e9fe031aa1d8",
   "metadata": {
    "execution": {
     "iopub.execute_input": "2024-07-03T02:11:29.255257Z",
     "iopub.status.busy": "2024-07-03T02:11:29.255066Z",
     "iopub.status.idle": "2024-07-03T02:13:14.541474Z",
     "shell.execute_reply": "2024-07-03T02:13:14.540397Z",
     "shell.execute_reply.started": "2024-07-03T02:11:29.255239Z"
    },
    "scrolled": true
   },
   "outputs": [
    {
     "name": "stdout",
     "output_type": "stream",
     "text": [
      "Processing Sample: RZ725_Pool4\n"
     ]
    },
    {
     "name": "stderr",
     "output_type": "stream",
     "text": [
      "Variable names are not unique. To make them unique, call `.var_names_make_unique`.\n",
      "Variable names are not unique. To make them unique, call `.var_names_make_unique`.\n",
      "Variable names are not unique. To make them unique, call `.var_names_make_unique`.\n",
      "Variable names are not unique. To make them unique, call `.var_names_make_unique`.\n"
     ]
    },
    {
     "name": "stdout",
     "output_type": "stream",
     "text": [
      "Processing Sample: RZ725_Pool5\n"
     ]
    },
    {
     "name": "stderr",
     "output_type": "stream",
     "text": [
      "Variable names are not unique. To make them unique, call `.var_names_make_unique`.\n",
      "Variable names are not unique. To make them unique, call `.var_names_make_unique`.\n",
      "Variable names are not unique. To make them unique, call `.var_names_make_unique`.\n",
      "Variable names are not unique. To make them unique, call `.var_names_make_unique`.\n"
     ]
    },
    {
     "name": "stdout",
     "output_type": "stream",
     "text": [
      "Processing Sample: RZ734_Pool_1\n"
     ]
    },
    {
     "name": "stderr",
     "output_type": "stream",
     "text": [
      "Variable names are not unique. To make them unique, call `.var_names_make_unique`.\n",
      "Variable names are not unique. To make them unique, call `.var_names_make_unique`.\n",
      "Variable names are not unique. To make them unique, call `.var_names_make_unique`.\n",
      "Variable names are not unique. To make them unique, call `.var_names_make_unique`.\n"
     ]
    },
    {
     "name": "stdout",
     "output_type": "stream",
     "text": [
      "Processing Sample: RZ734_Pool_2\n"
     ]
    },
    {
     "name": "stderr",
     "output_type": "stream",
     "text": [
      "Variable names are not unique. To make them unique, call `.var_names_make_unique`.\n",
      "Variable names are not unique. To make them unique, call `.var_names_make_unique`.\n",
      "Variable names are not unique. To make them unique, call `.var_names_make_unique`.\n",
      "Variable names are not unique. To make them unique, call `.var_names_make_unique`.\n"
     ]
    },
    {
     "name": "stdout",
     "output_type": "stream",
     "text": [
      "Processing Sample: RZ734_Pool_3\n"
     ]
    },
    {
     "name": "stderr",
     "output_type": "stream",
     "text": [
      "Variable names are not unique. To make them unique, call `.var_names_make_unique`.\n",
      "Variable names are not unique. To make them unique, call `.var_names_make_unique`.\n",
      "Variable names are not unique. To make them unique, call `.var_names_make_unique`.\n",
      "Variable names are not unique. To make them unique, call `.var_names_make_unique`.\n"
     ]
    },
    {
     "name": "stdout",
     "output_type": "stream",
     "text": [
      "Processing Sample: BAL_scRNA_Sample10\n"
     ]
    },
    {
     "name": "stderr",
     "output_type": "stream",
     "text": [
      "Variable names are not unique. To make them unique, call `.var_names_make_unique`.\n",
      "Variable names are not unique. To make them unique, call `.var_names_make_unique`.\n",
      "Variable names are not unique. To make them unique, call `.var_names_make_unique`.\n",
      "Variable names are not unique. To make them unique, call `.var_names_make_unique`.\n"
     ]
    },
    {
     "name": "stdout",
     "output_type": "stream",
     "text": [
      "Processing Sample: BAL_scRNA_Sample15\n"
     ]
    },
    {
     "name": "stderr",
     "output_type": "stream",
     "text": [
      "Variable names are not unique. To make them unique, call `.var_names_make_unique`.\n",
      "Variable names are not unique. To make them unique, call `.var_names_make_unique`.\n",
      "Variable names are not unique. To make them unique, call `.var_names_make_unique`.\n",
      "Variable names are not unique. To make them unique, call `.var_names_make_unique`.\n"
     ]
    },
    {
     "name": "stdout",
     "output_type": "stream",
     "text": [
      "Processing Sample: BAL_scRNA_Sample18\n"
     ]
    },
    {
     "name": "stderr",
     "output_type": "stream",
     "text": [
      "Variable names are not unique. To make them unique, call `.var_names_make_unique`.\n",
      "Variable names are not unique. To make them unique, call `.var_names_make_unique`.\n",
      "Variable names are not unique. To make them unique, call `.var_names_make_unique`.\n",
      "Variable names are not unique. To make them unique, call `.var_names_make_unique`.\n"
     ]
    },
    {
     "name": "stdout",
     "output_type": "stream",
     "text": [
      "Processing Sample: BAL_scRNA_Sample3\n"
     ]
    },
    {
     "name": "stderr",
     "output_type": "stream",
     "text": [
      "Variable names are not unique. To make them unique, call `.var_names_make_unique`.\n",
      "Variable names are not unique. To make them unique, call `.var_names_make_unique`.\n",
      "Variable names are not unique. To make them unique, call `.var_names_make_unique`.\n",
      "Variable names are not unique. To make them unique, call `.var_names_make_unique`.\n"
     ]
    }
   ],
   "source": [
    "adatas = [load_adata(sample_loc_bal.sample_name[s], sample_loc_bal.location[s], bal_mapping, meta) for s in range(len(sample_loc_bal))]"
   ]
  },
  {
   "cell_type": "markdown",
   "id": "ccf1c5cd-1650-4743-a8b3-a1c63d62832b",
   "metadata": {},
   "source": [
    "# First-pass Quality Control"
   ]
  },
  {
   "cell_type": "code",
   "execution_count": 21,
   "id": "03dc9f74-5463-4432-813c-034ac523e926",
   "metadata": {
    "execution": {
     "iopub.execute_input": "2024-07-03T02:13:14.543834Z",
     "iopub.status.busy": "2024-07-03T02:13:14.543510Z",
     "iopub.status.idle": "2024-07-03T02:13:14.552374Z",
     "shell.execute_reply": "2024-07-03T02:13:14.551389Z",
     "shell.execute_reply.started": "2024-07-03T02:13:14.543802Z"
    }
   },
   "outputs": [],
   "source": [
    "def qc(adata):\n",
    "  sc.pp.filter_cells(adata, min_genes = 200) # low threshold\n",
    "  adata.var[\"mt\"] = adata.var_names.str.startswith(\"MT-\")\n",
    "  adata.var[\"ribo\"] = adata.var_names.str.startswith(\"RPS\", \"RPL\")\n",
    "  adata.var[\"hb\"] = adata.var_names.str.startswith(\"^HB[^(P)]\")\n",
    "\n",
    "  sc.pp.calculate_qc_metrics(adata, qc_vars=[\"mt\", \"ribo\", \"hb\"], inplace=True, percent_top=[20], log1p=True)\n",
    "\n",
    "  remove = ['total_counts_mt', 'log1p_total_counts_mt', 'total_counts_ribo',\n",
    "          'log1p_total_counts_ribo', 'total_counts_hb', 'log1p_total_counts_hb']\n",
    "\n",
    "  adata.obs = adata.obs[[x for x in adata.obs.columns if x not in remove]]\n",
    "\n",
    "  return adata"
   ]
  },
  {
   "cell_type": "code",
   "execution_count": 22,
   "id": "ecb88d5a-62e1-4af9-8ca0-19daa80a72d4",
   "metadata": {
    "execution": {
     "iopub.execute_input": "2024-07-03T02:13:14.553741Z",
     "iopub.status.busy": "2024-07-03T02:13:14.553494Z",
     "iopub.status.idle": "2024-07-03T02:13:50.739455Z",
     "shell.execute_reply": "2024-07-03T02:13:50.738567Z",
     "shell.execute_reply.started": "2024-07-03T02:13:14.553718Z"
    }
   },
   "outputs": [
    {
     "name": "stderr",
     "output_type": "stream",
     "text": [
      "Variable names are not unique. To make them unique, call `.var_names_make_unique`.\n",
      "Variable names are not unique. To make them unique, call `.var_names_make_unique`.\n",
      "/scratch/ei56/pa3687/ild-pathwayAnalysis-bal-scRNA/venv/lib64/python3.6/site-packages/numba/np/ufunc/parallel.py:365: NumbaWarning: The TBB threading layer requires TBB version 2019.5 or later i.e., TBB_INTERFACE_VERSION >= 11005. Found TBB_INTERFACE_VERSION = 10002. The TBB threading layer is disabled.\n",
      "  warnings.warn(problem)\n",
      "Variable names are not unique. To make them unique, call `.var_names_make_unique`.\n",
      "Variable names are not unique. To make them unique, call `.var_names_make_unique`.\n",
      "Variable names are not unique. To make them unique, call `.var_names_make_unique`.\n",
      "Variable names are not unique. To make them unique, call `.var_names_make_unique`.\n",
      "Variable names are not unique. To make them unique, call `.var_names_make_unique`.\n",
      "Variable names are not unique. To make them unique, call `.var_names_make_unique`.\n",
      "Variable names are not unique. To make them unique, call `.var_names_make_unique`.\n",
      "Variable names are not unique. To make them unique, call `.var_names_make_unique`.\n",
      "Variable names are not unique. To make them unique, call `.var_names_make_unique`.\n",
      "Variable names are not unique. To make them unique, call `.var_names_make_unique`.\n",
      "Variable names are not unique. To make them unique, call `.var_names_make_unique`.\n",
      "Variable names are not unique. To make them unique, call `.var_names_make_unique`.\n",
      "Variable names are not unique. To make them unique, call `.var_names_make_unique`.\n",
      "Variable names are not unique. To make them unique, call `.var_names_make_unique`.\n",
      "Variable names are not unique. To make them unique, call `.var_names_make_unique`.\n",
      "Variable names are not unique. To make them unique, call `.var_names_make_unique`.\n"
     ]
    }
   ],
   "source": [
    "adatas = [qc(ad) for ad in adatas]"
   ]
  },
  {
   "cell_type": "code",
   "execution_count": 27,
   "id": "56ef14f2-2d4e-449b-912c-49421643e59a",
   "metadata": {
    "execution": {
     "iopub.execute_input": "2024-07-03T02:13:50.740789Z",
     "iopub.status.busy": "2024-07-03T02:13:50.740544Z",
     "iopub.status.idle": "2024-07-03T02:16:29.626906Z",
     "shell.execute_reply": "2024-07-03T02:16:29.626030Z",
     "shell.execute_reply.started": "2024-07-03T02:13:50.740767Z"
    },
    "scrolled": true
   },
   "outputs": [],
   "source": [
    "import pandas as pd\n",
    "import seaborn as sns\n",
    "import matplotlib.pyplot as plt\n",
    "from statsmodels import robust\n",
    "\n",
    "# Define variables for plotting\n",
    "plots = ['pct_counts_mt', 'n_genes', 'pct_counts_in_top_20_genes', 'log1p_total_counts']\n",
    "sample_types = ['RZ', 'BAL']\n",
    "\n",
    "# Combine data from all adatas into a single DataFrame\n",
    "all_data = pd.concat([x.obs for x in adatas])\n",
    "\n",
    "# Set a minimalistic seaborn style to mimic ggplot aesthetics\n",
    "sns.set_theme(style=\"whitegrid\")\n",
    "\n",
    "# Generate density plots for each specified variable\n",
    "for plot in plots:\n",
    "    # Create a FacetGrid for visualizing the data\n",
    "    g = sns.FacetGrid(all_data, hue=\"Sample\", aspect=5, height=3, palette=\"Set1\")\n",
    "\n",
    "    # Plot the kernel density estimate (KDE)\n",
    "    g.map(sns.kdeplot, plot, fill=True, alpha=0.6, linewidth=1.5)\n",
    "\n",
    "    # Add a horizontal line at y=0 for reference\n",
    "    g.map(plt.axhline, y=0, lw=1, color='black')\n",
    "\n",
    "    # Adjust the layout of the subplots\n",
    "    g.figure.subplots_adjust(hspace=0.3)\n",
    "\n",
    "    # Set plot limits for specific variables\n",
    "    if plot == 'pct_counts_mt':\n",
    "        g.set(xlim=(-25, 100))\n",
    "    elif plot == 'n_genes':\n",
    "        g.set(xlim=(0, 8000))\n",
    "\n",
    "    # Customize the appearance of the plots\n",
    "    g.set_titles(\"\")\n",
    "    g.set(yticks=[], ylabel=\"\")\n",
    "    g.despine(bottom=True, left=True)\n",
    "\n",
    "    # Add a legend for the sample types\n",
    "    g.add_legend(title=\"Sample\", bbox_to_anchor=(1.05, 1), loc='upper left')\n",
    "\n",
    "    # Calculate median and 5 Median Absolute Deviations (MAD)\n",
    "    mad_value = robust.mad(all_data[plot])\n",
    "    median_value = all_data[plot].median()\n",
    "\n",
    "    # Add vertical lines representing ±5 MADs\n",
    "    for ax in g.axes.flat:\n",
    "        ax.axvline(x=median_value + 5 * mad_value, color='red', linestyle='--', label='+5 MAD')\n",
    "        ax.axvline(x=median_value - 5 * mad_value, color='red', linestyle='--', label='-5 MAD')\n",
    "\n",
    "    # Save the figure with a high resolution\n",
    "    plt.tight_layout()\n",
    "    plt.savefig(f'reports/figures/qc_{plot}_combined.png', dpi=800)\n",
    "    plt.close()\n"
   ]
  },
  {
   "cell_type": "markdown",
   "id": "f2ad26da-514c-4edb-a296-a9e8179ace89",
   "metadata": {},
   "source": [
    "# Preprocessing (Removing Doublets & Unassigned)"
   ]
  },
  {
   "cell_type": "code",
   "execution_count": 30,
   "id": "d1d84f5e-0e0c-4c86-8ed6-e2f5b1c6bc3d",
   "metadata": {
    "execution": {
     "iopub.execute_input": "2024-07-03T02:16:29.628621Z",
     "iopub.status.busy": "2024-07-03T02:16:29.628378Z",
     "iopub.status.idle": "2024-07-03T02:16:29.638042Z",
     "shell.execute_reply": "2024-07-03T02:16:29.637326Z",
     "shell.execute_reply.started": "2024-07-03T02:16:29.628600Z"
    }
   },
   "outputs": [],
   "source": [
    "from scipy.stats import median_abs_deviation as mad\n",
    "\n",
    "def mad_outlier(adata, metric, nmads, upper_only = False):\n",
    "    M = adata.obs[metric]\n",
    "\n",
    "    if not upper_only:\n",
    "        return (M < np.median(M) - nmads * mad(M)) | (M > np.median(M) + nmads * mad(M))\n",
    "\n",
    "    return (M > np.median(M) + nmads * mad(M))\n",
    "\n",
    "def pp(adata):\n",
    "\n",
    "  if adata.obs.Doublet.isin(['doublet']).any():\n",
    "    adata.uns['doublets_removed'] = adata.obs.Doublet.value_counts()['doublet']\n",
    "    adata = adata[adata.obs.Doublet == 'singlet']\n",
    "\n",
    "  if adata.obs.Sample.isin(['unassigned']).any():\n",
    "    adata.uns['unassigned_removed'] = adata.obs.Sample.value_counts()['unassigned']\n",
    "    adata = adata[adata.obs.Sample != 'unassigned']\n",
    "\n",
    "  if adata.obs.disease_final.isna().any():\n",
    "    adata.uns['missing_metadata'] = adata.obs.DX.isna().sum()\n",
    "    adata = adata[adata.obs.DX.notnull()]\n",
    "\n",
    "  adata = adata[adata.obs.pct_counts_mt < 25] #you can lower this based on the overal distribution of your dataset\n",
    "\n",
    "  bool_vector = mad_outlier(adata, 'log1p_total_counts', 5) +\\\n",
    "          mad_outlier(adata, 'log1p_n_genes_by_counts', 5) +\\\n",
    "          mad_outlier(adata, 'pct_counts_in_top_20_genes', 5) +\\\n",
    "          mad_outlier(adata, 'pct_counts_mt', 3, upper_only = True)\n",
    "  adata = adata[~bool_vector]\n",
    "\n",
    "  adata.uns['cells_removed'] = sum(bool_vector)\n",
    "\n",
    "  return adata"
   ]
  },
  {
   "cell_type": "code",
   "execution_count": 31,
   "id": "f4d447fc-bcb0-41d2-83b3-5ac2097193f1",
   "metadata": {
    "execution": {
     "iopub.execute_input": "2024-07-03T02:16:29.639338Z",
     "iopub.status.busy": "2024-07-03T02:16:29.639125Z",
     "iopub.status.idle": "2024-07-03T02:16:37.462497Z",
     "shell.execute_reply": "2024-07-03T02:16:37.461384Z",
     "shell.execute_reply.started": "2024-07-03T02:16:29.639318Z"
    }
   },
   "outputs": [
    {
     "name": "stderr",
     "output_type": "stream",
     "text": [
      "Trying to set attribute `._uns` of view, copying.\n",
      "Variable names are not unique. To make them unique, call `.var_names_make_unique`.\n",
      "Variable names are not unique. To make them unique, call `.var_names_make_unique`.\n",
      "Trying to set attribute `._uns` of view, copying.\n",
      "Variable names are not unique. To make them unique, call `.var_names_make_unique`.\n",
      "Variable names are not unique. To make them unique, call `.var_names_make_unique`.\n",
      "Trying to set attribute `._uns` of view, copying.\n",
      "Variable names are not unique. To make them unique, call `.var_names_make_unique`.\n",
      "Variable names are not unique. To make them unique, call `.var_names_make_unique`.\n",
      "Trying to set attribute `._uns` of view, copying.\n",
      "Variable names are not unique. To make them unique, call `.var_names_make_unique`.\n",
      "Variable names are not unique. To make them unique, call `.var_names_make_unique`.\n",
      "Trying to set attribute `._uns` of view, copying.\n",
      "Variable names are not unique. To make them unique, call `.var_names_make_unique`.\n",
      "Variable names are not unique. To make them unique, call `.var_names_make_unique`.\n",
      "Trying to set attribute `._uns` of view, copying.\n",
      "Variable names are not unique. To make them unique, call `.var_names_make_unique`.\n",
      "Variable names are not unique. To make them unique, call `.var_names_make_unique`.\n",
      "Trying to set attribute `._uns` of view, copying.\n",
      "Variable names are not unique. To make them unique, call `.var_names_make_unique`.\n",
      "Variable names are not unique. To make them unique, call `.var_names_make_unique`.\n",
      "Trying to set attribute `._uns` of view, copying.\n",
      "Variable names are not unique. To make them unique, call `.var_names_make_unique`.\n",
      "Variable names are not unique. To make them unique, call `.var_names_make_unique`.\n",
      "Trying to set attribute `._uns` of view, copying.\n",
      "Variable names are not unique. To make them unique, call `.var_names_make_unique`.\n",
      "Variable names are not unique. To make them unique, call `.var_names_make_unique`.\n"
     ]
    }
   ],
   "source": [
    "adatas = [pp(ad) for ad in adatas]"
   ]
  },
  {
   "cell_type": "code",
   "execution_count": 33,
   "id": "23f5352b-6c17-46e7-ab06-c0a97afe6df8",
   "metadata": {
    "execution": {
     "iopub.execute_input": "2024-07-03T02:16:37.464218Z",
     "iopub.status.busy": "2024-07-03T02:16:37.463963Z",
     "iopub.status.idle": "2024-07-03T02:16:37.484594Z",
     "shell.execute_reply": "2024-07-03T02:16:37.483847Z",
     "shell.execute_reply.started": "2024-07-03T02:16:37.464194Z"
    },
    "scrolled": true
   },
   "outputs": [
    {
     "name": "stdout",
     "output_type": "stream",
     "text": [
      "RZ725_Pool4\n",
      "\tCells removed (QC): 2473\n",
      "\tCells Remaining: 13183\n",
      "RZ725_Pool5\n",
      "\tCells removed (QC): 1928\n",
      "\tCells Remaining: 15118\n",
      "RZ734_Pool_1\n",
      "\tCells removed (QC): 1650\n",
      "\tCells Remaining: 10283\n",
      "RZ734_Pool_2\n",
      "\tCells removed (QC): 1947\n",
      "\tCells Remaining: 10905\n",
      "RZ734_Pool_3\n",
      "\tCells removed (QC): 1726\n",
      "\tCells Remaining: 13326\n",
      "BAL_scRNA_Sample10\n",
      "\tCells removed (QC): 1425\n",
      "\tDoublets removed: 1156\n",
      "\tCells Remaining: 7895\n",
      "BAL_scRNA_Sample15\n",
      "\tCells removed (QC): 1630\n",
      "\tDoublets removed: 1205\n",
      "\tCells Remaining: 7966\n",
      "BAL_scRNA_Sample18\n",
      "\tCells removed (QC): 1167\n",
      "\tDoublets removed: 1325\n",
      "\tCells Remaining: 7616\n",
      "BAL_scRNA_Sample3\n",
      "\tCells removed (QC): 1535\n",
      "\tDoublets removed: 907\n",
      "\tCells Remaining: 7691\n"
     ]
    }
   ],
   "source": [
    "## Print how many cells in each category\n",
    "for adata in adatas:\n",
    "  print(adata.obs.Pool[0])\n",
    "  print(\"\\tCells removed (QC): \" + str(adata.uns['cells_removed']))\n",
    "\n",
    "  if adata.uns.get('doublets_removed') is not None:\n",
    "    print(\"\\tDoublets removed: \" + str(adata.uns['doublets_removed']))\n",
    "\n",
    "  if adata.uns.get('unassigned_removed') is not None:\n",
    "    print(\"\\tUnassigned removed: \" + str(adata.uns['unassigned_removed']))\n",
    "\n",
    "  if adata.uns.get('missing_metadata') is not None:\n",
    "    print(\"\\tMissing Metadata removed: \" + str(adata.uns['missing_metadata']))\n",
    "\n",
    "  print(\"\\tCells Remaining: \" + str(len(adata)))"
   ]
  },
  {
   "cell_type": "markdown",
   "id": "456629a1-b2bc-4f46-b79a-4e22e065eadb",
   "metadata": {},
   "source": [
    "# Save each adata for annotation & integration"
   ]
  },
  {
   "cell_type": "code",
   "execution_count": 35,
   "id": "5cc8f118-d7ea-4f84-9ff7-4443299dd643",
   "metadata": {
    "execution": {
     "iopub.execute_input": "2024-07-03T02:17:42.327767Z",
     "iopub.status.busy": "2024-07-03T02:17:42.326982Z",
     "iopub.status.idle": "2024-07-03T02:18:13.664555Z",
     "shell.execute_reply": "2024-07-03T02:18:13.662981Z",
     "shell.execute_reply.started": "2024-07-03T02:17:42.327698Z"
    }
   },
   "outputs": [
    {
     "name": "stderr",
     "output_type": "stream",
     "text": [
      "... storing 'Sample' as categorical\n",
      "... storing 'Pool' as categorical\n",
      "... storing 'Doublet' as categorical\n",
      "... storing 'disease_final' as categorical\n",
      "... storing 'sex' as categorical\n",
      "... storing 'age_at_sampling' as categorical\n",
      "... storing 'antifibrotics' as categorical\n",
      "... storing 'immunosuppression' as categorical\n",
      "... storing 'telomere_length' as categorical\n",
      "... storing 'smoking_0_ex1_current2' as categorical\n",
      "... storing '10X_chemistry' as categorical\n",
      "... storing 'feature_types' as categorical\n",
      "... storing 'genome' as categorical\n",
      "... storing 'Sample' as categorical\n",
      "... storing 'Pool' as categorical\n",
      "... storing 'Doublet' as categorical\n",
      "... storing 'disease_final' as categorical\n",
      "... storing 'sex' as categorical\n",
      "... storing 'age_at_sampling' as categorical\n",
      "... storing 'antifibrotics' as categorical\n",
      "... storing 'immunosuppression' as categorical\n",
      "... storing 'telomere_length' as categorical\n",
      "... storing 'smoking_0_ex1_current2' as categorical\n",
      "... storing '10X_chemistry' as categorical\n",
      "... storing 'feature_types' as categorical\n",
      "... storing 'genome' as categorical\n",
      "... storing 'Sample' as categorical\n",
      "... storing 'Pool' as categorical\n",
      "... storing 'Doublet' as categorical\n",
      "... storing 'disease_final' as categorical\n",
      "... storing 'sex' as categorical\n",
      "... storing 'age_at_sampling' as categorical\n",
      "... storing 'antifibrotics' as categorical\n",
      "... storing 'immunosuppression' as categorical\n",
      "... storing 'telomere_length' as categorical\n",
      "... storing 'smoking_0_ex1_current2' as categorical\n",
      "... storing '10X_chemistry' as categorical\n",
      "... storing 'feature_types' as categorical\n",
      "... storing 'genome' as categorical\n",
      "... storing 'Sample' as categorical\n",
      "... storing 'Pool' as categorical\n",
      "... storing 'Doublet' as categorical\n",
      "... storing 'disease_final' as categorical\n",
      "... storing 'sex' as categorical\n",
      "... storing 'age_at_sampling' as categorical\n",
      "... storing 'antifibrotics' as categorical\n",
      "... storing 'immunosuppression' as categorical\n",
      "... storing 'telomere_length' as categorical\n",
      "... storing 'smoking_0_ex1_current2' as categorical\n",
      "... storing '10X_chemistry' as categorical\n",
      "... storing 'feature_types' as categorical\n",
      "... storing 'genome' as categorical\n",
      "... storing 'Sample' as categorical\n",
      "... storing 'Pool' as categorical\n",
      "... storing 'Doublet' as categorical\n",
      "... storing 'disease_final' as categorical\n",
      "... storing 'sex' as categorical\n",
      "... storing 'age_at_sampling' as categorical\n",
      "... storing 'antifibrotics' as categorical\n",
      "... storing 'immunosuppression' as categorical\n",
      "... storing 'telomere_length' as categorical\n",
      "... storing 'smoking_0_ex1_current2' as categorical\n",
      "... storing '10X_chemistry' as categorical\n",
      "... storing 'feature_types' as categorical\n",
      "... storing 'genome' as categorical\n",
      "... storing 'Sample' as categorical\n",
      "... storing 'Pool' as categorical\n",
      "... storing 'Doublet' as categorical\n",
      "... storing 'disease_final' as categorical\n",
      "... storing 'sex' as categorical\n",
      "... storing 'age_at_sampling' as categorical\n",
      "... storing 'antifibrotics' as categorical\n",
      "... storing 'immunosuppression' as categorical\n",
      "... storing 'telomere_length' as categorical\n",
      "... storing 'smoking_0_ex1_current2' as categorical\n",
      "... storing '10X_chemistry' as categorical\n",
      "... storing 'feature_types' as categorical\n",
      "... storing 'genome' as categorical\n",
      "... storing 'Sample' as categorical\n",
      "... storing 'Pool' as categorical\n",
      "... storing 'Doublet' as categorical\n",
      "... storing 'disease_final' as categorical\n",
      "... storing 'sex' as categorical\n",
      "... storing 'age_at_sampling' as categorical\n",
      "... storing 'antifibrotics' as categorical\n",
      "... storing 'immunosuppression' as categorical\n",
      "... storing 'telomere_length' as categorical\n",
      "... storing 'smoking_0_ex1_current2' as categorical\n",
      "... storing '10X_chemistry' as categorical\n",
      "... storing 'feature_types' as categorical\n",
      "... storing 'genome' as categorical\n",
      "... storing 'Sample' as categorical\n",
      "... storing 'Pool' as categorical\n",
      "... storing 'Doublet' as categorical\n",
      "... storing 'disease_final' as categorical\n",
      "... storing 'sex' as categorical\n",
      "... storing 'age_at_sampling' as categorical\n",
      "... storing 'antifibrotics' as categorical\n",
      "... storing 'immunosuppression' as categorical\n",
      "... storing 'telomere_length' as categorical\n",
      "... storing 'smoking_0_ex1_current2' as categorical\n",
      "... storing '10X_chemistry' as categorical\n",
      "... storing 'feature_types' as categorical\n",
      "... storing 'genome' as categorical\n",
      "... storing 'Sample' as categorical\n",
      "... storing 'Pool' as categorical\n",
      "... storing 'Doublet' as categorical\n",
      "... storing 'disease_final' as categorical\n",
      "... storing 'sex' as categorical\n",
      "... storing 'age_at_sampling' as categorical\n",
      "... storing 'antifibrotics' as categorical\n",
      "... storing 'immunosuppression' as categorical\n",
      "... storing 'telomere_length' as categorical\n",
      "... storing 'smoking_0_ex1_current2' as categorical\n",
      "... storing '10X_chemistry' as categorical\n",
      "... storing 'feature_types' as categorical\n",
      "... storing 'genome' as categorical\n"
     ]
    }
   ],
   "source": [
    "for adata in adatas:\n",
    "    pool = adata.obs.Pool[0]\n",
    "    adata.write_h5ad('data/02-preprocessed/individual-adatas/' + pool + '.h5ad')"
   ]
  }
 ],
 "metadata": {
  "kernelspec": {
   "display_name": "venv",
   "language": "python",
   "name": "python3"
  },
  "language_info": {
   "codemirror_mode": {
    "name": "ipython",
    "version": 3
   },
   "file_extension": ".py",
   "mimetype": "text/x-python",
   "name": "python",
   "nbconvert_exporter": "python",
   "pygments_lexer": "ipython3",
   "version": "3.6.8"
  }
 },
 "nbformat": 4,
 "nbformat_minor": 5
}
