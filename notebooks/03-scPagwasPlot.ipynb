{
 "cells": [
  {
   "cell_type": "code",
   "execution_count": null,
   "metadata": {
    "vscode": {
     "languageId": "plaintext"
    }
   },
   "outputs": [],
   "source": [
    "library(tidyverse)\n",
    "library(scPagwas)\n",
    "library(data.table)\n",
    "library(Seurat)"
   ]
  },
  {
   "cell_type": "code",
   "execution_count": null,
   "metadata": {
    "vscode": {
     "languageId": "plaintext"
    }
   },
   "outputs": [],
   "source": [
    "args <- commandArgs(trailingOnly = TRUE)\n",
    "outDir <- args[1]\n",
    "pagwas_path <- paste0(outDir, \"/pagwas.rds\")\n",
    "\n",
    "pagwas <- readRDS(pagwas_path)"
   ]
  },
  {
   "cell_type": "markdown",
   "metadata": {},
   "source": [
    "Background testing led to insignicant adjusted p-values therefore took the top 25%"
   ]
  },
  {
   "cell_type": "markdown",
   "metadata": {},
   "source": [
    "pval_threshold <- quantile(pagwas$Random_Correct_BG_adjp, 0.25)"
   ]
  },
  {
   "cell_type": "code",
   "execution_count": null,
   "metadata": {
    "vscode": {
     "languageId": "plaintext"
    }
   },
   "outputs": [],
   "source": [
    "scPagwas_Visualization(Single_data=pagwas,\n",
    "                      p_thre = pval_threshold,\n",
    "                      FigureType = \"umap\",\n",
    "                      width = 7,\n",
    "                      height = 7,\n",
    "                      lowColor = \"white\", \n",
    "                      highColor = \"red\",\n",
    "                      output.dirs=outDir,\n",
    "                      size = 0.5,\n",
    "                      do_plot = F)"
   ]
  },
  {
   "cell_type": "markdown",
   "metadata": {},
   "source": [
    "# Proportion Plot of Positive vs Negative Cells"
   ]
  },
  {
   "cell_type": "markdown",
   "metadata": {},
   "source": [
    "## Add meta\n",
    "pagwas$positiveCells <- rep(0, ncol(pagwas))\n",
    "pagwas$positiveCells[pagwas$Random_Correct_BG_adjp < pval_threshold] <- 1"
   ]
  },
  {
   "cell_type": "code",
   "execution_count": null,
   "metadata": {
    "vscode": {
     "languageId": "plaintext"
    }
   },
   "outputs": [],
   "source": [
    "# Identify numbers for each cell type\n",
    "process_data <- function(meta_data, ident_column, group_column) {\n",
    "  # Create data table from meta data\n",
    "  dt <- data.table(\n",
    "    \"ident\" = as.character(meta_data[[ident_column]]),\n",
    "    \"group\" = as.character(meta_data[[group_column]])\n",
    "  )\n",
    "  \n",
    "  # Create n_ident column\n",
    "  dt[, n_ident := paste0(ident, \" (n=\", .N, \")\"), by = ident]\n",
    "  \n",
    "  # Generate factor levels based on numeric ordering\n",
    "  vec_factorLevels <- dt$n_ident[gsub(\"\\\\ .*\", \"\", dt$n_ident) %>%\n",
    "                                    as.numeric() %>%\n",
    "                                    order()] %>%\n",
    "    unique()\n",
    "  \n",
    "  # Make n_ident a factor with ordered levels\n",
    "  dt[, n_ident := factor(n_ident, levels = vec_factorLevels, ordered = TRUE)]\n",
    "  \n",
    "  # Calculate summary counts\n",
    "  dt_sum <- dt[, .N, by = .(n_ident, group)]\n",
    "  \n",
    "  return(dt_sum)\n",
    "}\n",
    "\n",
    "# Function for filtering by \"IPF\" and applying process_data\n",
    "process_ipf_data <- function(meta_data) {\n",
    "  # Filter for IPF\n",
    "  meta_data_ipf <- meta_data[meta_data$IPF == \"IPF\", ]\n",
    "  \n",
    "  # Apply process_data on filtered data (assuming 'Cell_Subtype' and 'positiveCells' columns exist)\n",
    "  dt_sum_ipf <- process_data(meta_data_ipf, \"Cell_Subtype\", \"positiveCells\")\n",
    "  \n",
    "  return(dt_sum_ipf)\n",
    "}"
   ]
  },
  {
   "cell_type": "code",
   "execution_count": null,
   "metadata": {
    "vscode": {
     "languageId": "plaintext"
    }
   },
   "outputs": [],
   "source": [
    "dt_sum_all <- process_data(pagwas@meta.data, \"Cell_Subtype\", \"positiveCells\")\n",
    "dt_sum_ipf <- process_ipf_data(pagwas@meta.data)"
   ]
  },
  {
   "cell_type": "code",
   "execution_count": null,
   "metadata": {
    "vscode": {
     "languageId": "plaintext"
    }
   },
   "outputs": [],
   "source": [
    "## ggplot for all data\n",
    "p_all <- ggplot(\n",
    "  dt_sum_all,\n",
    "  aes(x = n_ident, y = N, fill = factor(group))\n",
    "  ) +\n",
    "  geom_bar(\n",
    "    position = \"fill\",\n",
    "    stat = \"identity\",\n",
    "    width = 0.6,\n",
    "    show.legend = FALSE\n",
    "  ) +\n",
    "  scale_y_continuous(labels = scales::percent) +\n",
    "  scale_fill_manual(values = c(\"0\" = \"lightgray\",\n",
    "                 \"1\" = \"blue\")) +\n",
    "  theme_bw() +\n",
    "  theme(\n",
    "    axis.title.x = element_text(vjust = 0),\n",
    "    axis.text.x = element_text(angle = 45, vjust = 1, hjust = 1),\n",
    "    plot.margin = margin(t=0.1, b=0.1, r=0.1, l=2, \"cm\")\n",
    "  ) +\n",
    "  labs(\n",
    "    x = \"Cell type\", \n",
    "    y = \"Proportion\", \n",
    "    fill = \"Positive Cells\",\n",
    "    title = \"Proportion of Positive vs Negative Cells (All Data)\"\n",
    "  )\n",
    "\n",
    "ggsave(plot = p_all, filename = paste0(outDir, \"/cellProportionPathway_all.png\"), width = 7, height = 7, dpi = 300)\n",
    "\n",
    "## ggplot for IPF data\n",
    "p_ipf <- ggplot(\n",
    "  dt_sum_ipf,\n",
    "  aes(x = n_ident, y = N, fill = factor(group))\n",
    "  ) +\n",
    "  geom_bar(\n",
    "    position = \"fill\",\n",
    "    stat = \"identity\",\n",
    "    width = 0.6,\n",
    "    show.legend = FALSE\n",
    "  ) +\n",
    "  scale_y_continuous(labels = scales::percent) +\n",
    "  scale_fill_manual(values = c(\"0\" = \"lightgray\",\n",
    "                 \"1\" = \"blue\")) +\n",
    "  theme_bw() +\n",
    "  theme(\n",
    "    axis.title.x = element_text(vjust = 0),\n",
    "    axis.text.x = element_text(angle = 45, vjust = 1, hjust = 1),\n",
    "    plot.margin = margin(t=0.1, b=0.1, r=0.1, l=2, \"cm\")\n",
    "  ) +\n",
    "  labs(\n",
    "    x = \"Cell type\", \n",
    "    y = \"Proportion\", \n",
    "    fill = \"Positive Cells\",\n",
    "    title = \"Proportion of Positive vs Negative Cells (IPF)\"\n",
    "  )\n",
    "\n",
    "ggsave(plot = p_ipf, filename = paste0(outDir, \"/cellProportionPathway_ipf.png\"), width = 7, height = 7, dpi = 300)"
   ]
  },
  {
   "cell_type": "markdown",
   "metadata": {},
   "source": [
    "# Correlation Scatterplot for Pearson Correlation Coefficients (PCC)"
   ]
  },
  {
   "cell_type": "code",
   "execution_count": null,
   "metadata": {
    "vscode": {
     "languageId": "plaintext"
    }
   },
   "outputs": [],
   "source": [
    "cor_df <- data.frame(genes = rownames(pagwas@misc$PCC), PCC = pagwas@misc$PCC[, 1], text = rep(NA, nrow(pagwas@misc$PCC)))\n",
    "\n",
    "cor_df <- cor_df[order(cor_df$PCC, decreasing = T), ]\n",
    "cor_df$text[1:10] <- cor_df$genes[1:10]\n",
    "\n",
    "cor_df$order <- seq_len(nrow(cor_df))\n",
    "\n",
    "p <- ggplot(data = cor_df) +\n",
    "  geom_point(mapping = aes(x = order, y = PCC, color = PCC)) +\n",
    "  scale_colour_gradient2(\n",
    "    low = \"#035397\",\n",
    "    mid = \"white\",\n",
    "    high = \"#F32424\",\n",
    "    midpoint = 0\n",
    "  ) +\n",
    "  theme_classic() +\n",
    "  ggrepel::geom_text_repel(aes(\n",
    "    x = order, y = PCC,\n",
    "    label = text\n",
    "  ),\n",
    "  max.overlaps = 20,\n",
    "  na.rm = T,\n",
    "  force = 8,\n",
    "  force_pull = 0.1,\n",
    "  )\n",
    "\n",
    "ggsave(plot = p, filename = paste0(outDir, \"/correlation_scatter.png\"), width = 7, height = 7, dpi = 300)"
   ]
  },
  {
   "cell_type": "markdown",
   "metadata": {},
   "source": [
    "# Pathway plot"
   ]
  },
  {
   "cell_type": "code",
   "execution_count": null,
   "metadata": {
    "vscode": {
     "languageId": "plaintext"
    }
   },
   "outputs": [],
   "source": [
    "## Proportion\n",
    "proportion_list <- tapply(\n",
    "as.vector(Idents(pagwas)),\n",
    "Idents(pagwas), function(x) {\n",
    "    scPagwasPaHeritability <- t(GetAssayData(pagwas,\n",
    "                                            assay = \"scPagwasPaHeritability\"))\n",
    "    a <- apply(scPagwasPaHeritability, 2,\n",
    "                function(y) sum(y > 0) / length(y))\n",
    "    return(unlist(a))\n",
    "}\n",
    ")\n",
    "\n",
    "proportion_df <- Reduce(function(dtf1, dtf2) cbind(dtf1, dtf2),\n",
    "                        proportion_list)\n",
    "colnames(proportion_df) <- names(proportion_list)\n",
    "\n",
    "## Rank p-value\n",
    "scPathrankP <- -log10(pagwas@misc$scPathways_rankPvalue + 1e-20)\n",
    "\n",
    "top_function <- function(para_mat, n_path_to_keep) {\n",
    "para_mat$path <- rownames(para_mat)\n",
    "\n",
    "## Only keep genes with a unique name and tidy data.\n",
    "para_mat <- para_mat %>%\n",
    "    add_count(path) %>%\n",
    "    filter(n == 1) %>%\n",
    "    select(-n) %>%\n",
    "    gather(key = celltypes, value = paras, -path) %>%\n",
    "    as_tibble()\n",
    "\n",
    "para_mat <- para_mat %>%\n",
    "    group_by(celltypes) %>%\n",
    "    mutate(paras_sum_mean = (paras * nrow(scPathrankP)) / sum(paras))\n",
    "\n",
    "para_mat <- para_mat %>%\n",
    "    group_by(path) %>%\n",
    "    mutate(specificity = (paras_sum_mean * nrow(scPathrankP)) / sum(paras_sum_mean)) %>%\n",
    "    ungroup()\n",
    "\n",
    "d_spe <- para_mat %>% filter(paras_sum_mean > 1)\n",
    "d_spe <- d_spe %>%\n",
    "    group_by(celltypes) %>%\n",
    "    top_n(., n_path_to_keep, specificity)\n",
    "return(d_spe)\n",
    "}\n",
    "\n",
    "spe2 <- top_function(para_mat = scPathrankP,\n",
    "                     n_path_to_keep = 5)\n",
    "\n",
    "celltypes <- levels(as.factor(pagwas$Cell_Subtype))\n",
    "spe2 <- spe2[spe2$celltypes %in% celltypes, ]\n",
    "spe <- unique(spe2$path)\n",
    "\n",
    "## Merge to plot\n",
    "rownames(proportion_df) <- gsub(\"-\", \"_\", rownames(proportion_df))\n",
    "\n",
    "spe<-intersect(rownames(proportion_df),spe)\n",
    "scPathrankP <- scPathrankP[spe, celltypes]\n",
    "proportion_df <- proportion_df[spe, celltypes]\n",
    "proportion_df <- as.data.frame(proportion_df)\n",
    "\n",
    "scPathrankP[scPathrankP > 15] <- 15\n",
    "scPathrankP[scPathrankP < -log10(0.05)] <- 0\n",
    "\n",
    "proportion_df$pathways <- rownames(proportion_df)\n",
    "scPathrankP$pathways <- rownames(scPathrankP)\n",
    "\n",
    "gg_proportion <- reshape2::melt(proportion_df,\n",
    "                                id.vars = \"pathways\",\n",
    "                                variable.name = \"celltypes\",\n",
    "                                value.name = \"proportion\")\n",
    "\n",
    "gg_rankp <- reshape2::melt(scPathrankP,\n",
    "                            id.vars = \"pathways\",\n",
    "                            variable.name = \"celltypes\",\n",
    "                            value.name = \"logrankvalue\")\n",
    "\n",
    "gg_dot <- merge(gg_rankp, gg_proportion)"
   ]
  },
  {
   "cell_type": "code",
   "execution_count": null,
   "metadata": {
    "vscode": {
     "languageId": "plaintext"
    }
   },
   "outputs": [],
   "source": [
    "p_trs <- ggplot(pagwas@meta.data, aes(x = Cell_Subtype, y = scPagwas.downTRS.Score2, color = Cell_Subtype)) +\n",
    "  geom_boxplot(fill = \"lightblue\", alpha = 0.7) +\n",
    "  theme_bw() +\n",
    "  theme(\n",
    "    axis.text.x = element_text(angle = 45, hjust = 1),\n",
    "    plot.margin = margin(t=0.1, b=0.1, r=0.1, l=2, \"cm\")\n",
    "  ) +\n",
    "  labs(\n",
    "    x = \"Cell Type\",\n",
    "    y = \"TRS Score\",\n",
    "    title = \"IPF Trait-Relevant Score (TRS) Across Cell Types\"\n",
    "  )\n",
    "\n",
    "ggsave(plot = p_trs, filename = paste0(outDir, \"/trs_score_violin.png\"), width = 10, height = 7, dpi = 300)"
   ]
  },
  {
   "cell_type": "code",
   "execution_count": null,
   "metadata": {
    "vscode": {
     "languageId": "plaintext"
    }
   },
   "outputs": [],
   "source": [
    "# Violin plot of TRS Score by Cell Subtype, faceted by IPF\n",
    "p_trs_facet <- ggplot(pagwas@meta.data, aes(x = Cell_Subtype, y = scPagwas.downTRS.Score2, color = Cell_Subtype)) +\n",
    "  geom_boxplot(fill = \"lightblue\", alpha = 0.7) +\n",
    "  facet_wrap(~IPF) +\n",
    "  theme_bw() +\n",
    "  theme(\n",
    "    axis.text.x = element_text(angle = 45, hjust = 1),\n",
    "    plot.margin = margin(t=0.1, b=0.1, r=0.1, l=2, \"cm\"),\n",
    "    legend.position = \"none\"\n",
    "  ) +\n",
    "  labs(\n",
    "    x = \"Cell Type\",\n",
    "    y = \"TRS Score\",\n",
    "    title = \"IPF Trait-Relevant Score (TRS) Across Cell Types (Faceted by IPF)\"\n",
    "  )\n",
    "\n",
    "ggsave(plot = p_trs_facet, filename = paste0(outDir, \"/trs_score_violin_facet.png\"), width = 10, height = 7, dpi = 300)"
   ]
  },
  {
   "cell_type": "code",
   "execution_count": null,
   "metadata": {
    "vscode": {
     "languageId": "plaintext"
    }
   },
   "outputs": [],
   "source": [
    "# Plot Violin plots of the top 10 genes with the highest PCC between IPF and non-IPF\n",
    "top_genes <- cor_df$genes[1:10]\n",
    "\n",
    "\n",
    "for (gene in top_genes) {\n",
    "  png(paste0(outDir, \"/PCC_\", gene, \"_violin.png\"), width = 10, height = 7, units = \"in\", res = 300)\n",
    "  print(\n",
    "    VlnPlot(object = pagwas, features = gene, split.by = 'IPF') +\n",
    "      theme(\n",
    "        plot.margin = margin(t = 0.5, b = 0.5, r = 0.5, l = 1, \"cm\"),\n",
    "        axis.text.x = element_text(angle = 45, hjust = 1)\n",
    "      )\n",
    "  )\n",
    "  dev.off()\n",
    "}"
   ]
  },
  {
   "cell_type": "code",
   "execution_count": null,
   "metadata": {
    "vscode": {
     "languageId": "plaintext"
    }
   },
   "outputs": [],
   "source": [
    "# Pathway Gene expression plots ---\n",
    "library(KEGGREST)\n",
    "library(org.Hs.eg.db)\n",
    "\n",
    "# Retrieve KEGG pathway and gene lists\n",
    "pathways.geneList <- keggLink(\"pathway\", \"hsa\")\n",
    "pathways.pathwayList <- keggList(\"pathway\", \"hsa\")\n",
    "\n",
    "# Create a data frame for pathway and gene mapping\n",
    "path_df <- data.frame(\n",
    "    gene_id = gsub(\"hsa:\", \"\", names(pathways.geneList)),\n",
    "    pathway_id = gsub(\"path:\", \"\", pathways.geneList)\n",
    ")\n",
    "\n",
    "# Filter for specific cell type and significant pathways\n",
    "mdm5_kegg <- gg_dot %>%\n",
    "    filter(celltypes == \"mdm_5\", logrankvalue > 0)\n",
    "\n",
    "# Get unique gene IDs for a specific pathway\n",
    "pathway_genes <- path_df %>%\n",
    "    filter(pathway_id == \"hsa04350\") %>%\n",
    "    pull(gene_id) %>%\n",
    "    unique()\n",
    "\n",
    "# Convert Entrez IDs to gene symbols\n",
    "gene_symbols <- mapIds(org.Hs.eg.db, keys = pathway_genes, column = \"SYMBOL\", keytype = \"ENTREZID\", multiVals = \"first\")\n",
    "\n",
    "# Filter out any NA values\n",
    "gene_symbols <- gene_symbols[!is.na(gene_symbols)]"
   ]
  },
  {
   "cell_type": "code",
   "execution_count": null,
   "metadata": {
    "vscode": {
     "languageId": "plaintext"
    }
   },
   "outputs": [],
   "source": []
  },
  {
   "cell_type": "code",
   "execution_count": null,
   "metadata": {
    "vscode": {
     "languageId": "plaintext"
    }
   },
   "outputs": [],
   "source": []
  }
 ],
 "metadata": {
  "language_info": {
   "name": "python"
  }
 },
 "nbformat": 4,
 "nbformat_minor": 2
}
