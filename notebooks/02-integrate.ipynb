{
 "cells": [
  {
   "cell_type": "markdown",
   "id": "4b735cf3-2610-4cb8-b71d-bc3fb1e4797b",
   "metadata": {},
   "source": [
    "# Normalization, Annotation & Integration\n",
    "\n",
    "# Import modules"
   ]
  },
  {
   "cell_type": "code",
   "execution_count": 1,
   "id": "743e7ec2-66b1-41ef-a9b2-6e0b7d08cd11",
   "metadata": {
    "tags": []
   },
   "outputs": [
    {
     "data": {
      "text/plain": [
       "True"
      ]
     },
     "execution_count": 1,
     "metadata": {},
     "output_type": "execute_result"
    }
   ],
   "source": [
    "import torch\n",
    "\n",
    "torch.cuda.is_available()"
   ]
  },
  {
   "cell_type": "code",
   "execution_count": 1,
   "id": "5cf4f0c9-d8c5-4b29-8ec6-d3a82fc76a7d",
   "metadata": {
    "execution": {
     "iopub.execute_input": "2024-08-01T01:21:23.616246Z",
     "iopub.status.busy": "2024-08-01T01:21:23.615759Z",
     "iopub.status.idle": "2024-08-01T01:22:00.740632Z",
     "shell.execute_reply": "2024-08-01T01:22:00.738869Z",
     "shell.execute_reply.started": "2024-08-01T01:21:23.616222Z"
    },
    "scrolled": true
   },
   "outputs": [
    {
     "name": "stderr",
     "output_type": "stream",
     "text": [
      "/g/data/ei56/pa3687/miniforge3/envs/ild-bal-scrna/lib/python3.12/site-packages/tqdm/auto.py:21: TqdmWarning: IProgress not found. Please update jupyter and ipywidgets. See https://ipywidgets.readthedocs.io/en/stable/user_install.html\n",
      "  from .autonotebook import tqdm as notebook_tqdm\n"
     ]
    }
   ],
   "source": [
    "import scanpy as sc\n",
    "import pandas as pd\n",
    "import numpy as np\n",
    "import matplotlib.pyplot as plt\n",
    "import seaborn as sns\n",
    "import scvi"
   ]
  },
  {
   "cell_type": "code",
   "execution_count": 2,
   "id": "664cbece-31b7-4a56-b4d1-52b53b4550d3",
   "metadata": {
    "execution": {
     "iopub.execute_input": "2024-08-01T01:22:00.745697Z",
     "iopub.status.busy": "2024-08-01T01:22:00.744330Z",
     "iopub.status.idle": "2024-08-01T01:22:00.754259Z",
     "shell.execute_reply": "2024-08-01T01:22:00.752461Z",
     "shell.execute_reply.started": "2024-08-01T01:22:00.745624Z"
    }
   },
   "outputs": [],
   "source": [
    "import warnings\n",
    "warnings.simplefilter(\"ignore\", FutureWarning)\n",
    "warnings.simplefilter(\"ignore\", UserWarning)\n",
    "warnings.simplefilter(\"ignore\", RuntimeWarning)"
   ]
  },
  {
   "cell_type": "markdown",
   "id": "84c8ce5f-510f-4c50-8cb5-17bebf8d6a0c",
   "metadata": {},
   "source": [
    "# Celltypist - predicting cell types"
   ]
  },
  {
   "cell_type": "code",
   "execution_count": 4,
   "id": "bedaae67-0a3d-4d88-a9c9-e50463a56801",
   "metadata": {},
   "outputs": [],
   "source": [
    "import celltypist\n",
    "from celltypist import models"
   ]
  },
  {
   "cell_type": "markdown",
   "id": "b3ec4f8f-0018-453b-a6a9-d5ec5b8f68d0",
   "metadata": {},
   "source": [
    "## Creating reference from published data\n",
    "\n",
    "The rds object from the published study needs to be converted for use in Celltypist"
   ]
  },
  {
   "cell_type": "code",
   "execution_count": 5,
   "id": "5044cd2c-69a3-42ad-9f93-7f9cc4f422d5",
   "metadata": {},
   "outputs": [
    {
     "name": "stderr",
     "output_type": "stream",
     "text": [
      "cffi mode is CFFI_MODE.ANY\n",
      "R home found: /g/data/ei56/pa3687/miniforge3/envs/ild-bal-scrna/lib/R\n",
      "R library path: \n",
      "LD_LIBRARY_PATH: \n",
      "Default options to initialize R: rpy2, --quiet, --no-save\n",
      "R is already initialized. No need to initialize.\n"
     ]
    }
   ],
   "source": [
    "import rpy2.robjects as robjects\n",
    "from rpy2.robjects import pandas2ri\n",
    "from rpy2.robjects.packages import importr\n",
    "\n",
    "pandas2ri.activate()"
   ]
  },
  {
   "cell_type": "code",
   "execution_count": null,
   "id": "4e982cd9-666d-4f4c-a871-99c76745c611",
   "metadata": {
    "scrolled": true
   },
   "outputs": [],
   "source": [
    "robjects.r('''\n",
    "library(Seurat)\n",
    "library(SummarizedExperiment)\n",
    "\n",
    "rse <- readRDS(\"/share/ScratchGeneral/petall/IPF_NFE2L2_AlvMac/data/bal/ref_data/BALF_CF/GSE193782_SeuratObject.rds\")\n",
    "\n",
    "seurat_object <- CreateSeuratObject(counts = rse@assays$RNA@counts, meta.data = as.data.frame(rse@meta.data))\n",
    "\n",
    "BAL_CF <- as.SingleCellExperiment(seurat_object)\n",
    "''')"
   ]
  },
  {
   "cell_type": "code",
   "execution_count": null,
   "id": "c2f9a696-52fa-41dc-a18a-107815288488",
   "metadata": {},
   "outputs": [],
   "source": [
    "BAL_CF = robjects.r['BAL_CF']\n",
    "BAL_CF.obs"
   ]
  },
  {
   "cell_type": "code",
   "execution_count": null,
   "id": "ff96469e-398f-47ac-9939-040894562224",
   "metadata": {},
   "outputs": [],
   "source": [
    "sc.pp.normalize_total(BAL_CF, target_sum = 1e4) #Note this is only for cell annotation, recommended by authors but not best\n",
    "sc.pp.log1p(BAL_CF)"
   ]
  },
  {
   "cell_type": "code",
   "execution_count": null,
   "id": "e107c937-d897-4793-95e7-74f139153077",
   "metadata": {},
   "outputs": [],
   "source": [
    "## Takes about 90 minutes\n",
    "bal_cf_model = celltypist.train(BAL_CF, labels = 'Cell.Types', n_jobs = 22,\n",
    "                            use_SGD = False,\n",
    "                            feature_selection = True, top_genes = 300)"
   ]
  },
  {
   "cell_type": "code",
   "execution_count": null,
   "id": "a8b4488e-6a1f-4918-aafe-a6122fceb28e",
   "metadata": {},
   "outputs": [],
   "source": [
    "bal_cf_model.write('/home/petall/.celltypist/data/models/bal_cf.pkl')"
   ]
  },
  {
   "cell_type": "markdown",
   "id": "2253f7d0-359e-4284-adf6-8b010144a81b",
   "metadata": {},
   "source": [
    "## Load celltypist models\n",
    "\n",
    "To preserve memory, the kernel was restarted at this point and the packages reimported."
   ]
  },
  {
   "cell_type": "code",
   "execution_count": 6,
   "id": "b5aad32a-581f-4142-a396-91a63fc3fdee",
   "metadata": {},
   "outputs": [],
   "source": [
    "bal_cf_model = models.Model.load(model=\"/g/data/ei56/pa3687/.celltypist/data/models/bal_cf.pkl\")\n",
    "hcla_v2_model = models.Model.load(model=\"/g/data/ei56/pa3687/.celltypist/data/models/Human_Lung_Atlas.pkl\")\n",
    "lung_pf_model = models.Model.load(model=\"/g/data/ei56/pa3687/.celltypist/data/models/Human_PF_Lung.pkl\")\n",
    "lung_airway_model = models.Model.load(model=\"/g/data/ei56/pa3687/.celltypist/data/models/Cells_Lung_Airway.pkl\")\n"
   ]
  },
  {
   "cell_type": "code",
   "execution_count": 7,
   "id": "baf56cd0-417c-42ef-a8e0-dfef09aa2d51",
   "metadata": {},
   "outputs": [],
   "source": [
    "def predict_cells(adata):\n",
    "    sc.pp.filter_genes(adata, min_cells = 10)\n",
    "    sc.pp.normalize_total(adata, target_sum=1e4) #not recommended for typical pp\n",
    "    sc.pp.log1p(adata)\n",
    "\n",
    "    adata.X = adata.X.toarray()\n",
    "\n",
    "    predictions = celltypist.annotate(adata, model=bal_cf_model, majority_voting=False)\n",
    "    predictions_adata = predictions.to_adata()\n",
    "    adata.obs[\"bal_cf_label\"] = predictions_adata.obs.loc[adata.obs.index, \"predicted_labels\"]\n",
    "    adata.obs[\"bal_cf_score\"] = predictions_adata.obs.loc[adata.obs.index, \"conf_score\"]\n",
    "\n",
    "    predictions = celltypist.annotate(adata, model=hcla_v2_model, majority_voting=False)\n",
    "    predictions_adata = predictions.to_adata()\n",
    "    adata.obs[\"hclaV2_label\"] = predictions_adata.obs.loc[adata.obs.index, \"predicted_labels\"]\n",
    "    adata.obs[\"hclaV2_score\"] = predictions_adata.obs.loc[adata.obs.index, \"conf_score\"]\n",
    "\n",
    "    predictions = celltypist.annotate(adata, model=lung_pf_model, majority_voting=False)\n",
    "    predictions_adata = predictions.to_adata()\n",
    "    adata.obs[\"lung_pf_label\"] = predictions_adata.obs.loc[adata.obs.index, \"predicted_labels\"]\n",
    "    adata.obs[\"lung_pf_score\"] = predictions_adata.obs.loc[adata.obs.index, \"conf_score\"]\n",
    "\n",
    "    predictions = celltypist.annotate(adata, model=lung_airway_model, majority_voting=False)\n",
    "    predictions_adata = predictions.to_adata()\n",
    "    adata.obs[\"lung_airway_label\"] = predictions_adata.obs.loc[adata.obs.index, \"predicted_labels\"]\n",
    "    adata.obs[\"lung_airway_score\"] = predictions_adata.obs.loc[adata.obs.index, \"conf_score\"]\n",
    "\n",
    "    return adata.obs"
   ]
  },
  {
   "cell_type": "code",
   "execution_count": 10,
   "id": "8035e72b-fe5e-4e5f-814e-e27e6535e52b",
   "metadata": {},
   "outputs": [],
   "source": [
    "import glob\n",
    "adatas = [sc.read_h5ad(x) for x in glob.glob('/scratch/ei56/pa3687/ild-pathwayAnalysis-bal-scRNA/data/02-preprocessed/individual-adatas/*.h5ad')]"
   ]
  },
  {
   "cell_type": "code",
   "execution_count": 11,
   "id": "1ddccfe2-9c04-4437-a14d-3c9b730d4d43",
   "metadata": {},
   "outputs": [
    {
     "data": {
      "text/plain": [
       "9"
      ]
     },
     "execution_count": 11,
     "metadata": {},
     "output_type": "execute_result"
    }
   ],
   "source": [
    "len(adatas)"
   ]
  },
  {
   "cell_type": "code",
   "execution_count": 12,
   "id": "de254557-768f-4379-8cd5-b95d5613a18a",
   "metadata": {
    "scrolled": true
   },
   "outputs": [
    {
     "name": "stderr",
     "output_type": "stream",
     "text": [
      "🔬 Input data has 13183 cells and 21134 genes\n",
      "🔗 Matching reference genes in the model\n",
      "🧬 2136 features used for prediction\n",
      "⚖️ Scaling input data\n",
      "🖋️ Predicting labels\n",
      "✅ Prediction done!\n",
      "🔬 Input data has 13183 cells and 21134 genes\n",
      "🔗 Matching reference genes in the model\n",
      "🧬 4140 features used for prediction\n",
      "⚖️ Scaling input data\n",
      "🖋️ Predicting labels\n",
      "✅ Prediction done!\n",
      "🔬 Input data has 13183 cells and 21134 genes\n",
      "🔗 Matching reference genes in the model\n",
      "🧬 3039 features used for prediction\n",
      "⚖️ Scaling input data\n",
      "🖋️ Predicting labels\n",
      "✅ Prediction done!\n",
      "🔬 Input data has 13183 cells and 21134 genes\n",
      "🔗 Matching reference genes in the model\n",
      "🧬 4222 features used for prediction\n",
      "⚖️ Scaling input data\n",
      "🖋️ Predicting labels\n",
      "✅ Prediction done!\n",
      "🔬 Input data has 15118 cells and 22306 genes\n",
      "🔗 Matching reference genes in the model\n",
      "🧬 2146 features used for prediction\n",
      "⚖️ Scaling input data\n",
      "🖋️ Predicting labels\n",
      "✅ Prediction done!\n",
      "🔬 Input data has 15118 cells and 22306 genes\n",
      "🔗 Matching reference genes in the model\n",
      "🧬 4274 features used for prediction\n",
      "⚖️ Scaling input data\n",
      "🖋️ Predicting labels\n",
      "✅ Prediction done!\n",
      "🔬 Input data has 15118 cells and 22306 genes\n",
      "🔗 Matching reference genes in the model\n",
      "🧬 3147 features used for prediction\n",
      "⚖️ Scaling input data\n",
      "🖋️ Predicting labels\n",
      "✅ Prediction done!\n",
      "🔬 Input data has 15118 cells and 22306 genes\n",
      "🔗 Matching reference genes in the model\n",
      "🧬 4373 features used for prediction\n",
      "⚖️ Scaling input data\n",
      "🖋️ Predicting labels\n",
      "✅ Prediction done!\n",
      "🔬 Input data has 10905 cells and 23485 genes\n",
      "🔗 Matching reference genes in the model\n",
      "🧬 2177 features used for prediction\n",
      "⚖️ Scaling input data\n",
      "🖋️ Predicting labels\n",
      "✅ Prediction done!\n",
      "🔬 Input data has 10905 cells and 23485 genes\n",
      "🔗 Matching reference genes in the model\n",
      "🧬 4415 features used for prediction\n",
      "⚖️ Scaling input data\n",
      "🖋️ Predicting labels\n",
      "✅ Prediction done!\n",
      "🔬 Input data has 10905 cells and 23485 genes\n",
      "🔗 Matching reference genes in the model\n",
      "🧬 3241 features used for prediction\n",
      "⚖️ Scaling input data\n",
      "🖋️ Predicting labels\n",
      "✅ Prediction done!\n",
      "🔬 Input data has 10905 cells and 23485 genes\n",
      "🔗 Matching reference genes in the model\n",
      "🧬 4489 features used for prediction\n",
      "⚖️ Scaling input data\n",
      "🖋️ Predicting labels\n",
      "✅ Prediction done!\n",
      "🔬 Input data has 13326 cells and 22221 genes\n",
      "🔗 Matching reference genes in the model\n",
      "🧬 2147 features used for prediction\n",
      "⚖️ Scaling input data\n",
      "🖋️ Predicting labels\n",
      "✅ Prediction done!\n",
      "🔬 Input data has 13326 cells and 22221 genes\n",
      "🔗 Matching reference genes in the model\n",
      "🧬 4254 features used for prediction\n",
      "⚖️ Scaling input data\n",
      "🖋️ Predicting labels\n",
      "✅ Prediction done!\n",
      "🔬 Input data has 13326 cells and 22221 genes\n",
      "🔗 Matching reference genes in the model\n",
      "🧬 3117 features used for prediction\n",
      "⚖️ Scaling input data\n",
      "🖋️ Predicting labels\n",
      "✅ Prediction done!\n",
      "🔬 Input data has 13326 cells and 22221 genes\n",
      "🔗 Matching reference genes in the model\n",
      "🧬 4322 features used for prediction\n",
      "⚖️ Scaling input data\n",
      "🖋️ Predicting labels\n",
      "✅ Prediction done!\n",
      "🔬 Input data has 7966 cells and 19343 genes\n",
      "🔗 Matching reference genes in the model\n",
      "🧬 2021 features used for prediction\n",
      "⚖️ Scaling input data\n",
      "🖋️ Predicting labels\n",
      "✅ Prediction done!\n",
      "🔬 Input data has 7966 cells and 19343 genes\n",
      "🔗 Matching reference genes in the model\n",
      "🧬 3908 features used for prediction\n",
      "⚖️ Scaling input data\n",
      "🖋️ Predicting labels\n",
      "✅ Prediction done!\n",
      "🔬 Input data has 7966 cells and 19343 genes\n",
      "🔗 Matching reference genes in the model\n",
      "🧬 2829 features used for prediction\n",
      "⚖️ Scaling input data\n",
      "🖋️ Predicting labels\n",
      "✅ Prediction done!\n",
      "🔬 Input data has 7966 cells and 19343 genes\n",
      "🔗 Matching reference genes in the model\n",
      "🧬 3944 features used for prediction\n",
      "⚖️ Scaling input data\n",
      "🖋️ Predicting labels\n",
      "✅ Prediction done!\n",
      "🔬 Input data has 7616 cells and 17597 genes\n",
      "🔗 Matching reference genes in the model\n",
      "🧬 1978 features used for prediction\n",
      "⚖️ Scaling input data\n",
      "🖋️ Predicting labels\n",
      "✅ Prediction done!\n",
      "🔬 Input data has 7616 cells and 17597 genes\n",
      "🔗 Matching reference genes in the model\n",
      "🧬 3735 features used for prediction\n",
      "⚖️ Scaling input data\n",
      "🖋️ Predicting labels\n",
      "✅ Prediction done!\n",
      "🔬 Input data has 7616 cells and 17597 genes\n",
      "🔗 Matching reference genes in the model\n",
      "🧬 2701 features used for prediction\n",
      "⚖️ Scaling input data\n",
      "🖋️ Predicting labels\n",
      "✅ Prediction done!\n",
      "🔬 Input data has 7616 cells and 17597 genes\n",
      "🔗 Matching reference genes in the model\n",
      "🧬 3780 features used for prediction\n",
      "⚖️ Scaling input data\n",
      "🖋️ Predicting labels\n",
      "✅ Prediction done!\n",
      "🔬 Input data has 7691 cells and 16399 genes\n",
      "🔗 Matching reference genes in the model\n",
      "🧬 1686 features used for prediction\n",
      "⚖️ Scaling input data\n",
      "🖋️ Predicting labels\n",
      "✅ Prediction done!\n",
      "🔬 Input data has 7691 cells and 16399 genes\n",
      "🔗 Matching reference genes in the model\n",
      "🧬 3329 features used for prediction\n",
      "⚖️ Scaling input data\n",
      "🖋️ Predicting labels\n",
      "✅ Prediction done!\n",
      "🔬 Input data has 7691 cells and 16399 genes\n",
      "🔗 Matching reference genes in the model\n",
      "🧬 2355 features used for prediction\n",
      "⚖️ Scaling input data\n",
      "🖋️ Predicting labels\n",
      "✅ Prediction done!\n",
      "🔬 Input data has 7691 cells and 16399 genes\n",
      "🔗 Matching reference genes in the model\n",
      "🧬 3348 features used for prediction\n",
      "⚖️ Scaling input data\n",
      "🖋️ Predicting labels\n",
      "✅ Prediction done!\n",
      "🔬 Input data has 10283 cells and 23934 genes\n",
      "🔗 Matching reference genes in the model\n",
      "🧬 2176 features used for prediction\n",
      "⚖️ Scaling input data\n",
      "🖋️ Predicting labels\n",
      "✅ Prediction done!\n",
      "🔬 Input data has 10283 cells and 23934 genes\n",
      "🔗 Matching reference genes in the model\n",
      "🧬 4444 features used for prediction\n",
      "⚖️ Scaling input data\n",
      "🖋️ Predicting labels\n",
      "✅ Prediction done!\n",
      "🔬 Input data has 10283 cells and 23934 genes\n",
      "🔗 Matching reference genes in the model\n",
      "🧬 3259 features used for prediction\n",
      "⚖️ Scaling input data\n",
      "🖋️ Predicting labels\n",
      "✅ Prediction done!\n",
      "🔬 Input data has 10283 cells and 23934 genes\n",
      "🔗 Matching reference genes in the model\n",
      "🧬 4525 features used for prediction\n",
      "⚖️ Scaling input data\n",
      "🖋️ Predicting labels\n",
      "✅ Prediction done!\n",
      "🔬 Input data has 7895 cells and 19679 genes\n",
      "🔗 Matching reference genes in the model\n",
      "🧬 2060 features used for prediction\n",
      "⚖️ Scaling input data\n",
      "🖋️ Predicting labels\n",
      "✅ Prediction done!\n",
      "🔬 Input data has 7895 cells and 19679 genes\n",
      "🔗 Matching reference genes in the model\n",
      "🧬 3953 features used for prediction\n",
      "⚖️ Scaling input data\n",
      "🖋️ Predicting labels\n",
      "✅ Prediction done!\n",
      "🔬 Input data has 7895 cells and 19679 genes\n",
      "🔗 Matching reference genes in the model\n",
      "🧬 2866 features used for prediction\n",
      "⚖️ Scaling input data\n",
      "🖋️ Predicting labels\n",
      "✅ Prediction done!\n",
      "🔬 Input data has 7895 cells and 19679 genes\n",
      "🔗 Matching reference genes in the model\n",
      "🧬 4007 features used for prediction\n",
      "⚖️ Scaling input data\n",
      "🖋️ Predicting labels\n",
      "✅ Prediction done!\n"
     ]
    }
   ],
   "source": [
    "predictions = [predict_cells(ad.copy()) for ad in adatas]"
   ]
  },
  {
   "cell_type": "code",
   "execution_count": 13,
   "id": "56a04c9d-e2bf-4d9f-882d-40a921e2a6b0",
   "metadata": {},
   "outputs": [
    {
     "data": {
      "text/html": [
       "<div>\n",
       "<style scoped>\n",
       "    .dataframe tbody tr th:only-of-type {\n",
       "        vertical-align: middle;\n",
       "    }\n",
       "\n",
       "    .dataframe tbody tr th {\n",
       "        vertical-align: top;\n",
       "    }\n",
       "\n",
       "    .dataframe thead th {\n",
       "        text-align: right;\n",
       "    }\n",
       "</style>\n",
       "<table border=\"1\" class=\"dataframe\">\n",
       "  <thead>\n",
       "    <tr style=\"text-align: right;\">\n",
       "      <th></th>\n",
       "      <th>bal_cf_label</th>\n",
       "      <th>bal_cf_score</th>\n",
       "      <th>hclaV2_label</th>\n",
       "      <th>hclaV2_score</th>\n",
       "      <th>lung_pf_label</th>\n",
       "      <th>lung_pf_score</th>\n",
       "      <th>lung_airway_label</th>\n",
       "      <th>lung_airway_score</th>\n",
       "    </tr>\n",
       "    <tr>\n",
       "      <th>new_index</th>\n",
       "      <th></th>\n",
       "      <th></th>\n",
       "      <th></th>\n",
       "      <th></th>\n",
       "      <th></th>\n",
       "      <th></th>\n",
       "      <th></th>\n",
       "      <th></th>\n",
       "    </tr>\n",
       "  </thead>\n",
       "  <tbody>\n",
       "    <tr>\n",
       "      <th>AAACCCAAGAGTCAAT-1-B3_RZ725-IPF</th>\n",
       "      <td>AMs</td>\n",
       "      <td>0.981049</td>\n",
       "      <td>Alveolar macrophages</td>\n",
       "      <td>0.991815</td>\n",
       "      <td>Macrophages</td>\n",
       "      <td>0.999847</td>\n",
       "      <td>Macro_alveolar</td>\n",
       "      <td>0.993530</td>\n",
       "    </tr>\n",
       "    <tr>\n",
       "      <th>AAACCCAAGCTTAAGA-1-B5_RZ725-SR-ILD</th>\n",
       "      <td>Mono</td>\n",
       "      <td>0.987569</td>\n",
       "      <td>Alveolar macrophages</td>\n",
       "      <td>0.946023</td>\n",
       "      <td>Macrophages</td>\n",
       "      <td>0.998183</td>\n",
       "      <td>Macro_alveolar</td>\n",
       "      <td>0.995791</td>\n",
       "    </tr>\n",
       "    <tr>\n",
       "      <th>AAACCCAAGGCGAAGG-1-B6_RZ725-Silicosis</th>\n",
       "      <td>Mono</td>\n",
       "      <td>0.999173</td>\n",
       "      <td>Alveolar macrophages</td>\n",
       "      <td>0.977244</td>\n",
       "      <td>Macrophages</td>\n",
       "      <td>0.990317</td>\n",
       "      <td>Macro_alveolar</td>\n",
       "      <td>0.354005</td>\n",
       "    </tr>\n",
       "    <tr>\n",
       "      <th>AAACCCAAGGCGACAT-1-B2_RZ725-Silicosis</th>\n",
       "      <td>AMs</td>\n",
       "      <td>0.999996</td>\n",
       "      <td>Alveolar macrophages</td>\n",
       "      <td>0.983614</td>\n",
       "      <td>Macrophages</td>\n",
       "      <td>0.999571</td>\n",
       "      <td>Macro_alveolar</td>\n",
       "      <td>0.975494</td>\n",
       "    </tr>\n",
       "    <tr>\n",
       "      <th>AAACCCAAGTACAGCG-1-B6_RZ725-Silicosis</th>\n",
       "      <td>AMs</td>\n",
       "      <td>1.000000</td>\n",
       "      <td>Alveolar macrophages</td>\n",
       "      <td>0.943015</td>\n",
       "      <td>Macrophages</td>\n",
       "      <td>0.999041</td>\n",
       "      <td>Macro_alveolar</td>\n",
       "      <td>0.999951</td>\n",
       "    </tr>\n",
       "    <tr>\n",
       "      <th>...</th>\n",
       "      <td>...</td>\n",
       "      <td>...</td>\n",
       "      <td>...</td>\n",
       "      <td>...</td>\n",
       "      <td>...</td>\n",
       "      <td>...</td>\n",
       "      <td>...</td>\n",
       "      <td>...</td>\n",
       "    </tr>\n",
       "    <tr>\n",
       "      <th>TTTGTCAGTACCAGTT-1-BAL_scRNA_Sample10-Sarcoidosis</th>\n",
       "      <td>DC2</td>\n",
       "      <td>1.000000</td>\n",
       "      <td>DC2</td>\n",
       "      <td>0.998542</td>\n",
       "      <td>cDCs</td>\n",
       "      <td>0.559658</td>\n",
       "      <td>DC_2</td>\n",
       "      <td>0.999983</td>\n",
       "    </tr>\n",
       "    <tr>\n",
       "      <th>TTTGTCAGTTACGCGC-1-BAL_scRNA_Sample10-Sarcoidosis</th>\n",
       "      <td>AMs</td>\n",
       "      <td>0.811490</td>\n",
       "      <td>Alveolar macrophages</td>\n",
       "      <td>0.941766</td>\n",
       "      <td>Macrophages</td>\n",
       "      <td>0.992557</td>\n",
       "      <td>Macro_alveolar</td>\n",
       "      <td>0.999213</td>\n",
       "    </tr>\n",
       "    <tr>\n",
       "      <th>TTTGTCAGTTATCGGT-1-BAL_scRNA_Sample10-Sarcoidosis</th>\n",
       "      <td>Mono</td>\n",
       "      <td>0.569074</td>\n",
       "      <td>Alveolar macrophages</td>\n",
       "      <td>0.890885</td>\n",
       "      <td>Macrophages</td>\n",
       "      <td>0.996713</td>\n",
       "      <td>Macro_alveolar</td>\n",
       "      <td>0.998390</td>\n",
       "    </tr>\n",
       "    <tr>\n",
       "      <th>TTTGTCAGTTGTCTTT-1-BAL_scRNA_Sample10-Sarcoidosis</th>\n",
       "      <td>AMs</td>\n",
       "      <td>0.998419</td>\n",
       "      <td>Alveolar macrophages</td>\n",
       "      <td>0.999149</td>\n",
       "      <td>Macrophages</td>\n",
       "      <td>0.992370</td>\n",
       "      <td>Macro_alveolar</td>\n",
       "      <td>0.998125</td>\n",
       "    </tr>\n",
       "    <tr>\n",
       "      <th>TTTGTCATCTTAGAGC-1-BAL_scRNA_Sample10-Sarcoidosis</th>\n",
       "      <td>DC2</td>\n",
       "      <td>1.000000</td>\n",
       "      <td>DC2</td>\n",
       "      <td>0.999828</td>\n",
       "      <td>cDCs</td>\n",
       "      <td>0.995303</td>\n",
       "      <td>DC_2</td>\n",
       "      <td>0.999990</td>\n",
       "    </tr>\n",
       "  </tbody>\n",
       "</table>\n",
       "<p>93983 rows × 8 columns</p>\n",
       "</div>"
      ],
      "text/plain": [
       "                                                  bal_cf_label  bal_cf_score  \\\n",
       "new_index                                                                      \n",
       "AAACCCAAGAGTCAAT-1-B3_RZ725-IPF                            AMs      0.981049   \n",
       "AAACCCAAGCTTAAGA-1-B5_RZ725-SR-ILD                        Mono      0.987569   \n",
       "AAACCCAAGGCGAAGG-1-B6_RZ725-Silicosis                     Mono      0.999173   \n",
       "AAACCCAAGGCGACAT-1-B2_RZ725-Silicosis                      AMs      0.999996   \n",
       "AAACCCAAGTACAGCG-1-B6_RZ725-Silicosis                      AMs      1.000000   \n",
       "...                                                        ...           ...   \n",
       "TTTGTCAGTACCAGTT-1-BAL_scRNA_Sample10-Sarcoidosis          DC2      1.000000   \n",
       "TTTGTCAGTTACGCGC-1-BAL_scRNA_Sample10-Sarcoidosis          AMs      0.811490   \n",
       "TTTGTCAGTTATCGGT-1-BAL_scRNA_Sample10-Sarcoidosis         Mono      0.569074   \n",
       "TTTGTCAGTTGTCTTT-1-BAL_scRNA_Sample10-Sarcoidosis          AMs      0.998419   \n",
       "TTTGTCATCTTAGAGC-1-BAL_scRNA_Sample10-Sarcoidosis          DC2      1.000000   \n",
       "\n",
       "                                                           hclaV2_label  \\\n",
       "new_index                                                                 \n",
       "AAACCCAAGAGTCAAT-1-B3_RZ725-IPF                    Alveolar macrophages   \n",
       "AAACCCAAGCTTAAGA-1-B5_RZ725-SR-ILD                 Alveolar macrophages   \n",
       "AAACCCAAGGCGAAGG-1-B6_RZ725-Silicosis              Alveolar macrophages   \n",
       "AAACCCAAGGCGACAT-1-B2_RZ725-Silicosis              Alveolar macrophages   \n",
       "AAACCCAAGTACAGCG-1-B6_RZ725-Silicosis              Alveolar macrophages   \n",
       "...                                                                 ...   \n",
       "TTTGTCAGTACCAGTT-1-BAL_scRNA_Sample10-Sarcoidosis                   DC2   \n",
       "TTTGTCAGTTACGCGC-1-BAL_scRNA_Sample10-Sarcoidosis  Alveolar macrophages   \n",
       "TTTGTCAGTTATCGGT-1-BAL_scRNA_Sample10-Sarcoidosis  Alveolar macrophages   \n",
       "TTTGTCAGTTGTCTTT-1-BAL_scRNA_Sample10-Sarcoidosis  Alveolar macrophages   \n",
       "TTTGTCATCTTAGAGC-1-BAL_scRNA_Sample10-Sarcoidosis                   DC2   \n",
       "\n",
       "                                                   hclaV2_score lung_pf_label  \\\n",
       "new_index                                                                       \n",
       "AAACCCAAGAGTCAAT-1-B3_RZ725-IPF                        0.991815   Macrophages   \n",
       "AAACCCAAGCTTAAGA-1-B5_RZ725-SR-ILD                     0.946023   Macrophages   \n",
       "AAACCCAAGGCGAAGG-1-B6_RZ725-Silicosis                  0.977244   Macrophages   \n",
       "AAACCCAAGGCGACAT-1-B2_RZ725-Silicosis                  0.983614   Macrophages   \n",
       "AAACCCAAGTACAGCG-1-B6_RZ725-Silicosis                  0.943015   Macrophages   \n",
       "...                                                         ...           ...   \n",
       "TTTGTCAGTACCAGTT-1-BAL_scRNA_Sample10-Sarcoidosis      0.998542          cDCs   \n",
       "TTTGTCAGTTACGCGC-1-BAL_scRNA_Sample10-Sarcoidosis      0.941766   Macrophages   \n",
       "TTTGTCAGTTATCGGT-1-BAL_scRNA_Sample10-Sarcoidosis      0.890885   Macrophages   \n",
       "TTTGTCAGTTGTCTTT-1-BAL_scRNA_Sample10-Sarcoidosis      0.999149   Macrophages   \n",
       "TTTGTCATCTTAGAGC-1-BAL_scRNA_Sample10-Sarcoidosis      0.999828          cDCs   \n",
       "\n",
       "                                                   lung_pf_score  \\\n",
       "new_index                                                          \n",
       "AAACCCAAGAGTCAAT-1-B3_RZ725-IPF                         0.999847   \n",
       "AAACCCAAGCTTAAGA-1-B5_RZ725-SR-ILD                      0.998183   \n",
       "AAACCCAAGGCGAAGG-1-B6_RZ725-Silicosis                   0.990317   \n",
       "AAACCCAAGGCGACAT-1-B2_RZ725-Silicosis                   0.999571   \n",
       "AAACCCAAGTACAGCG-1-B6_RZ725-Silicosis                   0.999041   \n",
       "...                                                          ...   \n",
       "TTTGTCAGTACCAGTT-1-BAL_scRNA_Sample10-Sarcoidosis       0.559658   \n",
       "TTTGTCAGTTACGCGC-1-BAL_scRNA_Sample10-Sarcoidosis       0.992557   \n",
       "TTTGTCAGTTATCGGT-1-BAL_scRNA_Sample10-Sarcoidosis       0.996713   \n",
       "TTTGTCAGTTGTCTTT-1-BAL_scRNA_Sample10-Sarcoidosis       0.992370   \n",
       "TTTGTCATCTTAGAGC-1-BAL_scRNA_Sample10-Sarcoidosis       0.995303   \n",
       "\n",
       "                                                  lung_airway_label  \\\n",
       "new_index                                                             \n",
       "AAACCCAAGAGTCAAT-1-B3_RZ725-IPF                      Macro_alveolar   \n",
       "AAACCCAAGCTTAAGA-1-B5_RZ725-SR-ILD                   Macro_alveolar   \n",
       "AAACCCAAGGCGAAGG-1-B6_RZ725-Silicosis                Macro_alveolar   \n",
       "AAACCCAAGGCGACAT-1-B2_RZ725-Silicosis                Macro_alveolar   \n",
       "AAACCCAAGTACAGCG-1-B6_RZ725-Silicosis                Macro_alveolar   \n",
       "...                                                             ...   \n",
       "TTTGTCAGTACCAGTT-1-BAL_scRNA_Sample10-Sarcoidosis              DC_2   \n",
       "TTTGTCAGTTACGCGC-1-BAL_scRNA_Sample10-Sarcoidosis    Macro_alveolar   \n",
       "TTTGTCAGTTATCGGT-1-BAL_scRNA_Sample10-Sarcoidosis    Macro_alveolar   \n",
       "TTTGTCAGTTGTCTTT-1-BAL_scRNA_Sample10-Sarcoidosis    Macro_alveolar   \n",
       "TTTGTCATCTTAGAGC-1-BAL_scRNA_Sample10-Sarcoidosis              DC_2   \n",
       "\n",
       "                                                   lung_airway_score  \n",
       "new_index                                                             \n",
       "AAACCCAAGAGTCAAT-1-B3_RZ725-IPF                             0.993530  \n",
       "AAACCCAAGCTTAAGA-1-B5_RZ725-SR-ILD                          0.995791  \n",
       "AAACCCAAGGCGAAGG-1-B6_RZ725-Silicosis                       0.354005  \n",
       "AAACCCAAGGCGACAT-1-B2_RZ725-Silicosis                       0.975494  \n",
       "AAACCCAAGTACAGCG-1-B6_RZ725-Silicosis                       0.999951  \n",
       "...                                                              ...  \n",
       "TTTGTCAGTACCAGTT-1-BAL_scRNA_Sample10-Sarcoidosis           0.999983  \n",
       "TTTGTCAGTTACGCGC-1-BAL_scRNA_Sample10-Sarcoidosis           0.999213  \n",
       "TTTGTCAGTTATCGGT-1-BAL_scRNA_Sample10-Sarcoidosis           0.998390  \n",
       "TTTGTCAGTTGTCTTT-1-BAL_scRNA_Sample10-Sarcoidosis           0.998125  \n",
       "TTTGTCATCTTAGAGC-1-BAL_scRNA_Sample10-Sarcoidosis           0.999990  \n",
       "\n",
       "[93983 rows x 8 columns]"
      ]
     },
     "execution_count": 13,
     "metadata": {},
     "output_type": "execute_result"
    }
   ],
   "source": [
    "predictions = pd.concat(predictions)[['bal_cf_label', 'bal_cf_score', 'hclaV2_label', 'hclaV2_score', 'lung_pf_label', 'lung_pf_score', 'lung_airway_label', 'lung_airway_score']]\n",
    "\n",
    "predictions"
   ]
  },
  {
   "cell_type": "markdown",
   "id": "4e84c680-c7de-4dea-b830-40d238e4a734",
   "metadata": {},
   "source": [
    "# Merging Adatas (pre-integration)"
   ]
  },
  {
   "cell_type": "code",
   "execution_count": 14,
   "id": "a32e5cae-37bb-40c5-8200-a3288ba1382d",
   "metadata": {},
   "outputs": [],
   "source": [
    "for adata_single in adatas:\n",
    "    adata_single.var_names_make_unique()\n",
    "\n",
    "adata = sc.concat(adatas)"
   ]
  },
  {
   "cell_type": "code",
   "execution_count": 15,
   "id": "eb3f0300-d99c-485b-9a13-2619938b6c28",
   "metadata": {},
   "outputs": [],
   "source": [
    "predictions.to_csv('/scratch/ei56/pa3687/ild-pathwayAnalysis-bal-scRNA/reports/celltypist_predictions.csv')"
   ]
  },
  {
   "cell_type": "code",
   "execution_count": 16,
   "id": "584e81b9-52e4-465f-aad4-fdcfad88bcd0",
   "metadata": {},
   "outputs": [],
   "source": [
    "adata.obs = adata.obs.merge(right = predictions, left_index=True, right_index=True)"
   ]
  },
  {
   "cell_type": "markdown",
   "id": "9f34fd98-3c10-4a97-8c63-57df3f260e25",
   "metadata": {},
   "source": [
    "## Annotating using scimilarity"
   ]
  },
  {
   "cell_type": "code",
   "execution_count": 19,
   "id": "0fe212df-1996-426e-90b9-3fafa36d35df",
   "metadata": {},
   "outputs": [
    {
     "data": {
      "text/plain": [
       "disease_final\n",
       "IPF            45222\n",
       "Sarcoidosis    18810\n",
       "HP              9250\n",
       "NSIP            7966\n",
       "SR-ILD          6295\n",
       "Silicosis       4579\n",
       "PPFE            1861\n",
       "Name: count, dtype: int64"
      ]
     },
     "execution_count": 19,
     "metadata": {},
     "output_type": "execute_result"
    }
   ],
   "source": [
    "adata.obs.disease_final.value_counts()"
   ]
  },
  {
   "cell_type": "code",
   "execution_count": 20,
   "id": "a03493af-3aad-4ebb-90de-d06201716187",
   "metadata": {},
   "outputs": [],
   "source": [
    "sc.pp.filter_genes(adata, min_cells = 10)"
   ]
  },
  {
   "cell_type": "code",
   "execution_count": 20,
   "id": "d6f3d840",
   "metadata": {},
   "outputs": [
    {
     "name": "stderr",
     "output_type": "stream",
     "text": [
      "... storing 'Barcode' as categorical\n",
      "... storing 'bal_cf_label' as categorical\n",
      "... storing 'hclaV2_label' as categorical\n",
      "... storing 'lung_pf_label' as categorical\n",
      "... storing 'lung_airway_label' as categorical\n"
     ]
    }
   ],
   "source": [
    "adata.write_h5ad('/scratch/ei56/pa3687/ild-pathwayAnalysis-bal-scRNA/data/02-preprocessed/temp.h5ad')"
   ]
  },
  {
   "cell_type": "markdown",
   "id": "b6f9cf0c",
   "metadata": {},
   "source": [
    "# Use Scimilarity for Cell Annotation (triple loss model)\n",
    "\n",
    "A python script `bal_scimilarity_annotation.py` was written to be run on the unintegrated data and generate a csv file with the barcodes and predictions. Submit the job to generate  `scimilarity_annotations.csv` in the `/data` folder. "
   ]
  },
  {
   "cell_type": "code",
   "execution_count": 5,
   "id": "28834f66-7108-4187-a47a-440a7a7937ff",
   "metadata": {},
   "outputs": [
    {
     "name": "stdout",
     "output_type": "stream",
     "text": [
      "Starting Scimilarity Annotation...\n",
      "Scimilarity model loaded...\n",
      "Get nearest neighbors finished in: 0.02154362201690674 min\n"
     ]
    },
    {
     "name": "stderr",
     "output_type": "stream",
     "text": [
      "100%|██████████| 93983/93983 [00:29<00:00, 3205.92it/s]\n"
     ]
    },
    {
     "name": "stdout",
     "output_type": "stream",
     "text": [
      "Get nearest neighbors finished in: 0.020206101735432944 min\n"
     ]
    },
    {
     "name": "stderr",
     "output_type": "stream",
     "text": [
      "100%|██████████| 93983/93983 [00:29<00:00, 3162.62it/s]\n"
     ]
    }
   ],
   "source": [
    "print(\"Starting Scimilarity Annotation...\")\n",
    "\n",
    "# Import Scimilarity Modules and Model\n",
    "from scimilarity.utils import lognorm_counts, align_dataset\n",
    "from scimilarity import CellAnnotation\n",
    "\n",
    "model_path = \"/g/data/ei56/pa3687/.scimilarity/model_v1.1\"\n",
    "ca = CellAnnotation(model_path=model_path)\n",
    "print(\"Scimilarity model loaded...\")\n",
    "\n",
    "\n",
    "# Import and Normalize query adata\n",
    "\n",
    "## Load scRNA data\n",
    "data_path = '/scratch/ei56/pa3687/ild-pathwayAnalysis-bal-scRNA/data/02-preprocessed/temp.h5ad'\n",
    "\n",
    "adata = sc.read(data_path)\n",
    "\n",
    "## Match feature space with Scimilarity models\n",
    "adata = align_dataset(adata, ca.gene_order)\n",
    "\n",
    "## Comute Embeddings\n",
    "adata.obsm[\"X_scimilarity\"] = ca.get_embeddings(adata.X)\n",
    "\n",
    "## Use Unconstrained Model (Anything and Everything from model)\n",
    "predictions, nn_idx, nn_dists, nn_stats = ca.get_predictions_knn(\n",
    "    adata.obsm[\"X_scimilarity\"]\n",
    ")\n",
    "\n",
    "adata.obs[\"predictions_unconstrained\"] = predictions.values\n",
    "adata = ca.annotate_dataset(adata)"
   ]
  },
  {
   "cell_type": "markdown",
   "id": "fdc5c3e4",
   "metadata": {},
   "source": [
    "## Constrained Model"
   ]
  },
  {
   "cell_type": "code",
   "execution_count": 6,
   "id": "8b1f297a-4585-40a7-b6a4-2b782ffa7b6f",
   "metadata": {
    "execution": {
     "iopub.execute_input": "2024-08-01T01:15:26.078853Z",
     "iopub.status.busy": "2024-08-01T01:15:26.078085Z",
     "iopub.status.idle": "2024-08-01T01:19:33.465731Z",
     "shell.execute_reply": "2024-08-01T01:19:33.462962Z",
     "shell.execute_reply.started": "2024-08-01T01:15:26.078795Z"
    },
    "scrolled": true
   },
   "outputs": [
    {
     "name": "stdout",
     "output_type": "stream",
     "text": [
      "Get nearest neighbors finished in: 0.040105871359507245 min\n"
     ]
    },
    {
     "name": "stderr",
     "output_type": "stream",
     "text": [
      "100%|██████████| 93983/93983 [00:29<00:00, 3159.35it/s]\n"
     ]
    },
    {
     "name": "stdout",
     "output_type": "stream",
     "text": [
      "Scimilarity Annotation...Complete!\n"
     ]
    }
   ],
   "source": [
    "target_celltypes = [\n",
    "    #myeloid\n",
    "    \"classical monocyte\",\n",
    "    \"non-classical monocyte\",\n",
    "    \"alveolar macrophage\",\n",
    "    \"macrophage\",\n",
    "    \"plasmacytoid dendritic cell\",\n",
    "    \"conventional dendritic cell\",\n",
    "\n",
    "    #lymphoid - B\n",
    "    \"B cell\",\n",
    "    \"plasma cell\",\n",
    "\n",
    "    #lymphoid - T\n",
    "    \"type II pneumocyte\",\n",
    "    \"endothelial cell of vascular tree\",\n",
    "    \"club cell\",\n",
    "    \"endothelial cell of lymphatic vessel\",\n",
    "    \"CD4-positive, alpha-beta T cell\",\n",
    "    \"CD8-positive, alpha-beta T cell\",\n",
    "    \"mature NK T cell\",\n",
    "    \"natural killer cell\",\n",
    "\n",
    "    #stromal\n",
    "    \"respiratory basal cell\",\n",
    "    \"fibroblast\",\n",
    "    \"myofibroblast cell\",\n",
    "    \"basal cell\",\n",
    "    \"ciliated cell\",\n",
    "    \"vascular associated smooth muscle cell\",\n",
    "\n",
    "    #epithelial\n",
    "    \"mast cell\",\n",
    "    \"type I pneumocyte\",\n",
    "    \"secretory cell\",\n",
    "    \"goblet cell\",\n",
    "    \"pericyte\",\n",
    "    \"neuroendocrine cell\",\n",
    "    \"pulmonary ionocyte\",\n",
    "]\n",
    "\n",
    "ca.safelist_celltypes(target_celltypes)\n",
    "adata = ca.annotate_dataset(adata)\n",
    "\n",
    "\n",
    "# Output results\n",
    "annotations = adata.obs[['celltype_hint', 'predictions_unconstrained', 'min_dist']]\n",
    "\n",
    "output_path = '/scratch/ei56/pa3687/ild-pathwayAnalysis-bal-scRNA/reports/scimilarity_predictions.csv'\n",
    "annotations.to_csv(output_path, index=True)\n",
    "\n",
    "print(\"Scimilarity Annotation...Complete!\")"
   ]
  },
  {
   "cell_type": "markdown",
   "id": "54fb73a4-4857-429d-ad74-53cc1bbf4c04",
   "metadata": {},
   "source": [
    "# Load Unintegrated data"
   ]
  },
  {
   "cell_type": "code",
   "execution_count": 4,
   "id": "e9039364-4f47-4c4c-b17a-2f76c741d31f",
   "metadata": {
    "execution": {
     "iopub.execute_input": "2024-08-01T01:23:17.805408Z",
     "iopub.status.busy": "2024-08-01T01:23:17.804733Z",
     "iopub.status.idle": "2024-08-01T01:23:19.770945Z",
     "shell.execute_reply": "2024-08-01T01:23:19.770198Z",
     "shell.execute_reply.started": "2024-08-01T01:23:17.805349Z"
    }
   },
   "outputs": [
    {
     "data": {
      "text/plain": [
       "AnnData object with n_obs × n_vars = 93983 × 38592\n",
       "    obs: 'Sample', 'Pool', 'Doublet', 'Barcode', 'disease_final', 'sex', 'age_at_sampling', 'antifibrotics', 'immunosuppression', 'telomere_length', 'smoking_0_ex1_current2', '10X_chemistry', 'n_genes', 'n_genes_by_counts', 'log1p_n_genes_by_counts', 'total_counts', 'log1p_total_counts', 'pct_counts_in_top_20_genes', 'pct_counts_mt', 'pct_counts_ribo', 'pct_counts_hb', 'bal_cf_label', 'bal_cf_score', 'hclaV2_label', 'hclaV2_score', 'lung_pf_label', 'lung_pf_score', 'lung_airway_label', 'lung_airway_score'"
      ]
     },
     "execution_count": 4,
     "metadata": {},
     "output_type": "execute_result"
    }
   ],
   "source": [
    "adata = sc.read_h5ad('/scratch/ei56/pa3687/ild-pathwayAnalysis-bal-scRNA/data/02-preprocessed/temp.h5ad')\n",
    "adata"
   ]
  },
  {
   "cell_type": "code",
   "execution_count": 5,
   "id": "e0484c72-ea56-458a-a705-b51cf5ced1cc",
   "metadata": {
    "execution": {
     "iopub.execute_input": "2024-08-01T01:23:24.738843Z",
     "iopub.status.busy": "2024-08-01T01:23:24.738096Z",
     "iopub.status.idle": "2024-08-01T01:23:24.910148Z",
     "shell.execute_reply": "2024-08-01T01:23:24.909389Z",
     "shell.execute_reply.started": "2024-08-01T01:23:24.738777Z"
    }
   },
   "outputs": [
    {
     "data": {
      "text/html": [
       "<div>\n",
       "<style scoped>\n",
       "    .dataframe tbody tr th:only-of-type {\n",
       "        vertical-align: middle;\n",
       "    }\n",
       "\n",
       "    .dataframe tbody tr th {\n",
       "        vertical-align: top;\n",
       "    }\n",
       "\n",
       "    .dataframe thead th {\n",
       "        text-align: right;\n",
       "    }\n",
       "</style>\n",
       "<table border=\"1\" class=\"dataframe\">\n",
       "  <thead>\n",
       "    <tr style=\"text-align: right;\">\n",
       "      <th></th>\n",
       "      <th>scim_predictions_constrained</th>\n",
       "      <th>scim_predictions_unconstrained</th>\n",
       "      <th>scimilarity_distance</th>\n",
       "    </tr>\n",
       "  </thead>\n",
       "  <tbody>\n",
       "    <tr>\n",
       "      <th>AAACCCAAGAGTCAAT-1-B3_RZ725-IPF</th>\n",
       "      <td>alveolar macrophage</td>\n",
       "      <td>alveolar macrophage</td>\n",
       "      <td>0.024374</td>\n",
       "    </tr>\n",
       "    <tr>\n",
       "      <th>AAACCCAAGCTTAAGA-1-B5_RZ725-SR-ILD</th>\n",
       "      <td>alveolar macrophage</td>\n",
       "      <td>alveolar macrophage</td>\n",
       "      <td>0.021422</td>\n",
       "    </tr>\n",
       "    <tr>\n",
       "      <th>AAACCCAAGGCGAAGG-1-B6_RZ725-Silicosis</th>\n",
       "      <td>alveolar macrophage</td>\n",
       "      <td>alveolar macrophage</td>\n",
       "      <td>0.037640</td>\n",
       "    </tr>\n",
       "    <tr>\n",
       "      <th>AAACCCAAGGCGACAT-1-B2_RZ725-Silicosis</th>\n",
       "      <td>alveolar macrophage</td>\n",
       "      <td>alveolar macrophage</td>\n",
       "      <td>0.022384</td>\n",
       "    </tr>\n",
       "    <tr>\n",
       "      <th>AAACCCAAGTACAGCG-1-B6_RZ725-Silicosis</th>\n",
       "      <td>alveolar macrophage</td>\n",
       "      <td>alveolar macrophage</td>\n",
       "      <td>0.011204</td>\n",
       "    </tr>\n",
       "    <tr>\n",
       "      <th>...</th>\n",
       "      <td>...</td>\n",
       "      <td>...</td>\n",
       "      <td>...</td>\n",
       "    </tr>\n",
       "    <tr>\n",
       "      <th>TTTGTCAGTACCAGTT-1-BAL_scRNA_Sample10-Sarcoidosis</th>\n",
       "      <td>conventional dendritic cell</td>\n",
       "      <td>conventional dendritic cell</td>\n",
       "      <td>0.044894</td>\n",
       "    </tr>\n",
       "    <tr>\n",
       "      <th>TTTGTCAGTTACGCGC-1-BAL_scRNA_Sample10-Sarcoidosis</th>\n",
       "      <td>alveolar macrophage</td>\n",
       "      <td>alveolar macrophage</td>\n",
       "      <td>0.049849</td>\n",
       "    </tr>\n",
       "    <tr>\n",
       "      <th>TTTGTCAGTTATCGGT-1-BAL_scRNA_Sample10-Sarcoidosis</th>\n",
       "      <td>alveolar macrophage</td>\n",
       "      <td>alveolar macrophage</td>\n",
       "      <td>0.040485</td>\n",
       "    </tr>\n",
       "    <tr>\n",
       "      <th>TTTGTCAGTTGTCTTT-1-BAL_scRNA_Sample10-Sarcoidosis</th>\n",
       "      <td>alveolar macrophage</td>\n",
       "      <td>alveolar macrophage</td>\n",
       "      <td>0.033229</td>\n",
       "    </tr>\n",
       "    <tr>\n",
       "      <th>TTTGTCATCTTAGAGC-1-BAL_scRNA_Sample10-Sarcoidosis</th>\n",
       "      <td>macrophage</td>\n",
       "      <td>macrophage</td>\n",
       "      <td>0.052146</td>\n",
       "    </tr>\n",
       "  </tbody>\n",
       "</table>\n",
       "<p>93983 rows × 3 columns</p>\n",
       "</div>"
      ],
      "text/plain": [
       "                                                  scim_predictions_constrained  \\\n",
       "AAACCCAAGAGTCAAT-1-B3_RZ725-IPF                            alveolar macrophage   \n",
       "AAACCCAAGCTTAAGA-1-B5_RZ725-SR-ILD                         alveolar macrophage   \n",
       "AAACCCAAGGCGAAGG-1-B6_RZ725-Silicosis                      alveolar macrophage   \n",
       "AAACCCAAGGCGACAT-1-B2_RZ725-Silicosis                      alveolar macrophage   \n",
       "AAACCCAAGTACAGCG-1-B6_RZ725-Silicosis                      alveolar macrophage   \n",
       "...                                                                        ...   \n",
       "TTTGTCAGTACCAGTT-1-BAL_scRNA_Sample10-Sarcoidosis  conventional dendritic cell   \n",
       "TTTGTCAGTTACGCGC-1-BAL_scRNA_Sample10-Sarcoidosis          alveolar macrophage   \n",
       "TTTGTCAGTTATCGGT-1-BAL_scRNA_Sample10-Sarcoidosis          alveolar macrophage   \n",
       "TTTGTCAGTTGTCTTT-1-BAL_scRNA_Sample10-Sarcoidosis          alveolar macrophage   \n",
       "TTTGTCATCTTAGAGC-1-BAL_scRNA_Sample10-Sarcoidosis                   macrophage   \n",
       "\n",
       "                                                  scim_predictions_unconstrained  \\\n",
       "AAACCCAAGAGTCAAT-1-B3_RZ725-IPF                              alveolar macrophage   \n",
       "AAACCCAAGCTTAAGA-1-B5_RZ725-SR-ILD                           alveolar macrophage   \n",
       "AAACCCAAGGCGAAGG-1-B6_RZ725-Silicosis                        alveolar macrophage   \n",
       "AAACCCAAGGCGACAT-1-B2_RZ725-Silicosis                        alveolar macrophage   \n",
       "AAACCCAAGTACAGCG-1-B6_RZ725-Silicosis                        alveolar macrophage   \n",
       "...                                                                          ...   \n",
       "TTTGTCAGTACCAGTT-1-BAL_scRNA_Sample10-Sarcoidosis    conventional dendritic cell   \n",
       "TTTGTCAGTTACGCGC-1-BAL_scRNA_Sample10-Sarcoidosis            alveolar macrophage   \n",
       "TTTGTCAGTTATCGGT-1-BAL_scRNA_Sample10-Sarcoidosis            alveolar macrophage   \n",
       "TTTGTCAGTTGTCTTT-1-BAL_scRNA_Sample10-Sarcoidosis            alveolar macrophage   \n",
       "TTTGTCATCTTAGAGC-1-BAL_scRNA_Sample10-Sarcoidosis                     macrophage   \n",
       "\n",
       "                                                   scimilarity_distance  \n",
       "AAACCCAAGAGTCAAT-1-B3_RZ725-IPF                                0.024374  \n",
       "AAACCCAAGCTTAAGA-1-B5_RZ725-SR-ILD                             0.021422  \n",
       "AAACCCAAGGCGAAGG-1-B6_RZ725-Silicosis                          0.037640  \n",
       "AAACCCAAGGCGACAT-1-B2_RZ725-Silicosis                          0.022384  \n",
       "AAACCCAAGTACAGCG-1-B6_RZ725-Silicosis                          0.011204  \n",
       "...                                                                 ...  \n",
       "TTTGTCAGTACCAGTT-1-BAL_scRNA_Sample10-Sarcoidosis              0.044894  \n",
       "TTTGTCAGTTACGCGC-1-BAL_scRNA_Sample10-Sarcoidosis              0.049849  \n",
       "TTTGTCAGTTATCGGT-1-BAL_scRNA_Sample10-Sarcoidosis              0.040485  \n",
       "TTTGTCAGTTGTCTTT-1-BAL_scRNA_Sample10-Sarcoidosis              0.033229  \n",
       "TTTGTCATCTTAGAGC-1-BAL_scRNA_Sample10-Sarcoidosis              0.052146  \n",
       "\n",
       "[93983 rows x 3 columns]"
      ]
     },
     "execution_count": 5,
     "metadata": {},
     "output_type": "execute_result"
    }
   ],
   "source": [
    "scimilarity_annotations = pd.read_csv('/scratch/ei56/pa3687/ild-pathwayAnalysis-bal-scRNA/reports/scimilarity_predictions.csv', index_col=0)\n",
    "\n",
    "scimilarity_annotations = scimilarity_annotations.rename(columns={\"celltype_hint\": \"scim_predictions_constrained\", \"predictions_unconstrained\": \"scim_predictions_unconstrained\", \"min_dist\": \"scimilarity_distance\"})\n",
    "\n",
    "scimilarity_annotations"
   ]
  },
  {
   "cell_type": "code",
   "execution_count": 6,
   "id": "e90eec1b-f017-4727-b7d7-4e1e4b6fe659",
   "metadata": {
    "execution": {
     "iopub.execute_input": "2024-08-01T01:23:29.098129Z",
     "iopub.status.busy": "2024-08-01T01:23:29.097471Z",
     "iopub.status.idle": "2024-08-01T01:23:29.162123Z",
     "shell.execute_reply": "2024-08-01T01:23:29.161132Z",
     "shell.execute_reply.started": "2024-08-01T01:23:29.098071Z"
    }
   },
   "outputs": [],
   "source": [
    "adata.obs = adata.obs.merge(right = scimilarity_annotations, left_index=True, right_index=True)"
   ]
  },
  {
   "cell_type": "code",
   "execution_count": 7,
   "id": "8b3c089f-f73e-4614-8b87-7682d6b2e8ac",
   "metadata": {
    "execution": {
     "iopub.execute_input": "2024-08-01T01:23:32.049759Z",
     "iopub.status.busy": "2024-08-01T01:23:32.048953Z",
     "iopub.status.idle": "2024-08-01T01:23:32.153575Z",
     "shell.execute_reply": "2024-08-01T01:23:32.152719Z",
     "shell.execute_reply.started": "2024-08-01T01:23:32.049691Z"
    }
   },
   "outputs": [
    {
     "data": {
      "text/html": [
       "<div>\n",
       "<style scoped>\n",
       "    .dataframe tbody tr th:only-of-type {\n",
       "        vertical-align: middle;\n",
       "    }\n",
       "\n",
       "    .dataframe tbody tr th {\n",
       "        vertical-align: top;\n",
       "    }\n",
       "\n",
       "    .dataframe thead th {\n",
       "        text-align: right;\n",
       "    }\n",
       "</style>\n",
       "<table border=\"1\" class=\"dataframe\">\n",
       "  <thead>\n",
       "    <tr style=\"text-align: right;\">\n",
       "      <th></th>\n",
       "      <th>Sample</th>\n",
       "      <th>Pool</th>\n",
       "      <th>Doublet</th>\n",
       "      <th>Barcode</th>\n",
       "      <th>disease_final</th>\n",
       "      <th>sex</th>\n",
       "      <th>age_at_sampling</th>\n",
       "      <th>antifibrotics</th>\n",
       "      <th>immunosuppression</th>\n",
       "      <th>telomere_length</th>\n",
       "      <th>...</th>\n",
       "      <th>bal_cf_score</th>\n",
       "      <th>hclaV2_label</th>\n",
       "      <th>hclaV2_score</th>\n",
       "      <th>lung_pf_label</th>\n",
       "      <th>lung_pf_score</th>\n",
       "      <th>lung_airway_label</th>\n",
       "      <th>lung_airway_score</th>\n",
       "      <th>scim_predictions_constrained</th>\n",
       "      <th>scim_predictions_unconstrained</th>\n",
       "      <th>scimilarity_distance</th>\n",
       "    </tr>\n",
       "  </thead>\n",
       "  <tbody>\n",
       "    <tr>\n",
       "      <th>AAACCCAAGAGTCAAT-1-B3_RZ725-IPF</th>\n",
       "      <td>B3_RZ725</td>\n",
       "      <td>RZ725_Pool4</td>\n",
       "      <td>singlet</td>\n",
       "      <td>AAACCCAAGAGTCAAT-1</td>\n",
       "      <td>IPF</td>\n",
       "      <td>male</td>\n",
       "      <td>66</td>\n",
       "      <td>None-butwentontoAccendatechclinicaltrialFeb2021</td>\n",
       "      <td>None-buthadshortpredFeb2021forwheeze</td>\n",
       "      <td>&gt;10thcentile</td>\n",
       "      <td>...</td>\n",
       "      <td>0.981049</td>\n",
       "      <td>Alveolar macrophages</td>\n",
       "      <td>0.991815</td>\n",
       "      <td>Macrophages</td>\n",
       "      <td>0.999847</td>\n",
       "      <td>Macro_alveolar</td>\n",
       "      <td>0.993530</td>\n",
       "      <td>alveolar macrophage</td>\n",
       "      <td>alveolar macrophage</td>\n",
       "      <td>0.024374</td>\n",
       "    </tr>\n",
       "    <tr>\n",
       "      <th>AAACCCAAGCTTAAGA-1-B5_RZ725-SR-ILD</th>\n",
       "      <td>B5_RZ725</td>\n",
       "      <td>RZ725_Pool4</td>\n",
       "      <td>singlet</td>\n",
       "      <td>AAACCCAAGCTTAAGA-1</td>\n",
       "      <td>SR-ILD</td>\n",
       "      <td>male</td>\n",
       "      <td>42</td>\n",
       "      <td>None</td>\n",
       "      <td>None</td>\n",
       "      <td>&gt;10thcentile</td>\n",
       "      <td>...</td>\n",
       "      <td>0.987569</td>\n",
       "      <td>Alveolar macrophages</td>\n",
       "      <td>0.946023</td>\n",
       "      <td>Macrophages</td>\n",
       "      <td>0.998183</td>\n",
       "      <td>Macro_alveolar</td>\n",
       "      <td>0.995791</td>\n",
       "      <td>alveolar macrophage</td>\n",
       "      <td>alveolar macrophage</td>\n",
       "      <td>0.021422</td>\n",
       "    </tr>\n",
       "    <tr>\n",
       "      <th>AAACCCAAGGCGAAGG-1-B6_RZ725-Silicosis</th>\n",
       "      <td>B6_RZ725</td>\n",
       "      <td>RZ725_Pool4</td>\n",
       "      <td>singlet</td>\n",
       "      <td>AAACCCAAGGCGAAGG-1</td>\n",
       "      <td>Silicosis</td>\n",
       "      <td>male</td>\n",
       "      <td>24</td>\n",
       "      <td>None</td>\n",
       "      <td>None</td>\n",
       "      <td>NA</td>\n",
       "      <td>...</td>\n",
       "      <td>0.999173</td>\n",
       "      <td>Alveolar macrophages</td>\n",
       "      <td>0.977244</td>\n",
       "      <td>Macrophages</td>\n",
       "      <td>0.990317</td>\n",
       "      <td>Macro_alveolar</td>\n",
       "      <td>0.354005</td>\n",
       "      <td>alveolar macrophage</td>\n",
       "      <td>alveolar macrophage</td>\n",
       "      <td>0.037640</td>\n",
       "    </tr>\n",
       "    <tr>\n",
       "      <th>AAACCCAAGGCGACAT-1-B2_RZ725-Silicosis</th>\n",
       "      <td>B2_RZ725</td>\n",
       "      <td>RZ725_Pool4</td>\n",
       "      <td>singlet</td>\n",
       "      <td>AAACCCAAGGCGACAT-1</td>\n",
       "      <td>Silicosis</td>\n",
       "      <td>male</td>\n",
       "      <td>23</td>\n",
       "      <td>None</td>\n",
       "      <td>None</td>\n",
       "      <td>NA</td>\n",
       "      <td>...</td>\n",
       "      <td>0.999996</td>\n",
       "      <td>Alveolar macrophages</td>\n",
       "      <td>0.983614</td>\n",
       "      <td>Macrophages</td>\n",
       "      <td>0.999571</td>\n",
       "      <td>Macro_alveolar</td>\n",
       "      <td>0.975494</td>\n",
       "      <td>alveolar macrophage</td>\n",
       "      <td>alveolar macrophage</td>\n",
       "      <td>0.022384</td>\n",
       "    </tr>\n",
       "    <tr>\n",
       "      <th>AAACCCAAGTACAGCG-1-B6_RZ725-Silicosis</th>\n",
       "      <td>B6_RZ725</td>\n",
       "      <td>RZ725_Pool4</td>\n",
       "      <td>singlet</td>\n",
       "      <td>AAACCCAAGTACAGCG-1</td>\n",
       "      <td>Silicosis</td>\n",
       "      <td>male</td>\n",
       "      <td>24</td>\n",
       "      <td>None</td>\n",
       "      <td>None</td>\n",
       "      <td>NA</td>\n",
       "      <td>...</td>\n",
       "      <td>1.000000</td>\n",
       "      <td>Alveolar macrophages</td>\n",
       "      <td>0.943015</td>\n",
       "      <td>Macrophages</td>\n",
       "      <td>0.999041</td>\n",
       "      <td>Macro_alveolar</td>\n",
       "      <td>0.999951</td>\n",
       "      <td>alveolar macrophage</td>\n",
       "      <td>alveolar macrophage</td>\n",
       "      <td>0.011204</td>\n",
       "    </tr>\n",
       "    <tr>\n",
       "      <th>...</th>\n",
       "      <td>...</td>\n",
       "      <td>...</td>\n",
       "      <td>...</td>\n",
       "      <td>...</td>\n",
       "      <td>...</td>\n",
       "      <td>...</td>\n",
       "      <td>...</td>\n",
       "      <td>...</td>\n",
       "      <td>...</td>\n",
       "      <td>...</td>\n",
       "      <td>...</td>\n",
       "      <td>...</td>\n",
       "      <td>...</td>\n",
       "      <td>...</td>\n",
       "      <td>...</td>\n",
       "      <td>...</td>\n",
       "      <td>...</td>\n",
       "      <td>...</td>\n",
       "      <td>...</td>\n",
       "      <td>...</td>\n",
       "      <td>...</td>\n",
       "    </tr>\n",
       "    <tr>\n",
       "      <th>TTTGTCAGTACCAGTT-1-BAL_scRNA_Sample10-Sarcoidosis</th>\n",
       "      <td>BAL_scRNA_Sample10</td>\n",
       "      <td>BAL_scRNA_Sample10</td>\n",
       "      <td>singlet</td>\n",
       "      <td>TTTGTCAGTACCAGTT-1</td>\n",
       "      <td>Sarcoidosis</td>\n",
       "      <td>male</td>\n",
       "      <td>45</td>\n",
       "      <td>NA</td>\n",
       "      <td>NA</td>\n",
       "      <td>NA</td>\n",
       "      <td>...</td>\n",
       "      <td>1.000000</td>\n",
       "      <td>DC2</td>\n",
       "      <td>0.998542</td>\n",
       "      <td>cDCs</td>\n",
       "      <td>0.559658</td>\n",
       "      <td>DC_2</td>\n",
       "      <td>0.999983</td>\n",
       "      <td>conventional dendritic cell</td>\n",
       "      <td>conventional dendritic cell</td>\n",
       "      <td>0.044894</td>\n",
       "    </tr>\n",
       "    <tr>\n",
       "      <th>TTTGTCAGTTACGCGC-1-BAL_scRNA_Sample10-Sarcoidosis</th>\n",
       "      <td>BAL_scRNA_Sample10</td>\n",
       "      <td>BAL_scRNA_Sample10</td>\n",
       "      <td>singlet</td>\n",
       "      <td>TTTGTCAGTTACGCGC-1</td>\n",
       "      <td>Sarcoidosis</td>\n",
       "      <td>male</td>\n",
       "      <td>45</td>\n",
       "      <td>NA</td>\n",
       "      <td>NA</td>\n",
       "      <td>NA</td>\n",
       "      <td>...</td>\n",
       "      <td>0.811490</td>\n",
       "      <td>Alveolar macrophages</td>\n",
       "      <td>0.941766</td>\n",
       "      <td>Macrophages</td>\n",
       "      <td>0.992557</td>\n",
       "      <td>Macro_alveolar</td>\n",
       "      <td>0.999213</td>\n",
       "      <td>alveolar macrophage</td>\n",
       "      <td>alveolar macrophage</td>\n",
       "      <td>0.049849</td>\n",
       "    </tr>\n",
       "    <tr>\n",
       "      <th>TTTGTCAGTTATCGGT-1-BAL_scRNA_Sample10-Sarcoidosis</th>\n",
       "      <td>BAL_scRNA_Sample10</td>\n",
       "      <td>BAL_scRNA_Sample10</td>\n",
       "      <td>singlet</td>\n",
       "      <td>TTTGTCAGTTATCGGT-1</td>\n",
       "      <td>Sarcoidosis</td>\n",
       "      <td>male</td>\n",
       "      <td>45</td>\n",
       "      <td>NA</td>\n",
       "      <td>NA</td>\n",
       "      <td>NA</td>\n",
       "      <td>...</td>\n",
       "      <td>0.569074</td>\n",
       "      <td>Alveolar macrophages</td>\n",
       "      <td>0.890885</td>\n",
       "      <td>Macrophages</td>\n",
       "      <td>0.996713</td>\n",
       "      <td>Macro_alveolar</td>\n",
       "      <td>0.998390</td>\n",
       "      <td>alveolar macrophage</td>\n",
       "      <td>alveolar macrophage</td>\n",
       "      <td>0.040485</td>\n",
       "    </tr>\n",
       "    <tr>\n",
       "      <th>TTTGTCAGTTGTCTTT-1-BAL_scRNA_Sample10-Sarcoidosis</th>\n",
       "      <td>BAL_scRNA_Sample10</td>\n",
       "      <td>BAL_scRNA_Sample10</td>\n",
       "      <td>singlet</td>\n",
       "      <td>TTTGTCAGTTGTCTTT-1</td>\n",
       "      <td>Sarcoidosis</td>\n",
       "      <td>male</td>\n",
       "      <td>45</td>\n",
       "      <td>NA</td>\n",
       "      <td>NA</td>\n",
       "      <td>NA</td>\n",
       "      <td>...</td>\n",
       "      <td>0.998419</td>\n",
       "      <td>Alveolar macrophages</td>\n",
       "      <td>0.999149</td>\n",
       "      <td>Macrophages</td>\n",
       "      <td>0.992370</td>\n",
       "      <td>Macro_alveolar</td>\n",
       "      <td>0.998125</td>\n",
       "      <td>alveolar macrophage</td>\n",
       "      <td>alveolar macrophage</td>\n",
       "      <td>0.033229</td>\n",
       "    </tr>\n",
       "    <tr>\n",
       "      <th>TTTGTCATCTTAGAGC-1-BAL_scRNA_Sample10-Sarcoidosis</th>\n",
       "      <td>BAL_scRNA_Sample10</td>\n",
       "      <td>BAL_scRNA_Sample10</td>\n",
       "      <td>singlet</td>\n",
       "      <td>TTTGTCATCTTAGAGC-1</td>\n",
       "      <td>Sarcoidosis</td>\n",
       "      <td>male</td>\n",
       "      <td>45</td>\n",
       "      <td>NA</td>\n",
       "      <td>NA</td>\n",
       "      <td>NA</td>\n",
       "      <td>...</td>\n",
       "      <td>1.000000</td>\n",
       "      <td>DC2</td>\n",
       "      <td>0.999828</td>\n",
       "      <td>cDCs</td>\n",
       "      <td>0.995303</td>\n",
       "      <td>DC_2</td>\n",
       "      <td>0.999990</td>\n",
       "      <td>macrophage</td>\n",
       "      <td>macrophage</td>\n",
       "      <td>0.052146</td>\n",
       "    </tr>\n",
       "  </tbody>\n",
       "</table>\n",
       "<p>93983 rows × 32 columns</p>\n",
       "</div>"
      ],
      "text/plain": [
       "                                                               Sample  \\\n",
       "AAACCCAAGAGTCAAT-1-B3_RZ725-IPF                              B3_RZ725   \n",
       "AAACCCAAGCTTAAGA-1-B5_RZ725-SR-ILD                           B5_RZ725   \n",
       "AAACCCAAGGCGAAGG-1-B6_RZ725-Silicosis                        B6_RZ725   \n",
       "AAACCCAAGGCGACAT-1-B2_RZ725-Silicosis                        B2_RZ725   \n",
       "AAACCCAAGTACAGCG-1-B6_RZ725-Silicosis                        B6_RZ725   \n",
       "...                                                               ...   \n",
       "TTTGTCAGTACCAGTT-1-BAL_scRNA_Sample10-Sarcoidosis  BAL_scRNA_Sample10   \n",
       "TTTGTCAGTTACGCGC-1-BAL_scRNA_Sample10-Sarcoidosis  BAL_scRNA_Sample10   \n",
       "TTTGTCAGTTATCGGT-1-BAL_scRNA_Sample10-Sarcoidosis  BAL_scRNA_Sample10   \n",
       "TTTGTCAGTTGTCTTT-1-BAL_scRNA_Sample10-Sarcoidosis  BAL_scRNA_Sample10   \n",
       "TTTGTCATCTTAGAGC-1-BAL_scRNA_Sample10-Sarcoidosis  BAL_scRNA_Sample10   \n",
       "\n",
       "                                                                 Pool  \\\n",
       "AAACCCAAGAGTCAAT-1-B3_RZ725-IPF                           RZ725_Pool4   \n",
       "AAACCCAAGCTTAAGA-1-B5_RZ725-SR-ILD                        RZ725_Pool4   \n",
       "AAACCCAAGGCGAAGG-1-B6_RZ725-Silicosis                     RZ725_Pool4   \n",
       "AAACCCAAGGCGACAT-1-B2_RZ725-Silicosis                     RZ725_Pool4   \n",
       "AAACCCAAGTACAGCG-1-B6_RZ725-Silicosis                     RZ725_Pool4   \n",
       "...                                                               ...   \n",
       "TTTGTCAGTACCAGTT-1-BAL_scRNA_Sample10-Sarcoidosis  BAL_scRNA_Sample10   \n",
       "TTTGTCAGTTACGCGC-1-BAL_scRNA_Sample10-Sarcoidosis  BAL_scRNA_Sample10   \n",
       "TTTGTCAGTTATCGGT-1-BAL_scRNA_Sample10-Sarcoidosis  BAL_scRNA_Sample10   \n",
       "TTTGTCAGTTGTCTTT-1-BAL_scRNA_Sample10-Sarcoidosis  BAL_scRNA_Sample10   \n",
       "TTTGTCATCTTAGAGC-1-BAL_scRNA_Sample10-Sarcoidosis  BAL_scRNA_Sample10   \n",
       "\n",
       "                                                   Doublet  \\\n",
       "AAACCCAAGAGTCAAT-1-B3_RZ725-IPF                    singlet   \n",
       "AAACCCAAGCTTAAGA-1-B5_RZ725-SR-ILD                 singlet   \n",
       "AAACCCAAGGCGAAGG-1-B6_RZ725-Silicosis              singlet   \n",
       "AAACCCAAGGCGACAT-1-B2_RZ725-Silicosis              singlet   \n",
       "AAACCCAAGTACAGCG-1-B6_RZ725-Silicosis              singlet   \n",
       "...                                                    ...   \n",
       "TTTGTCAGTACCAGTT-1-BAL_scRNA_Sample10-Sarcoidosis  singlet   \n",
       "TTTGTCAGTTACGCGC-1-BAL_scRNA_Sample10-Sarcoidosis  singlet   \n",
       "TTTGTCAGTTATCGGT-1-BAL_scRNA_Sample10-Sarcoidosis  singlet   \n",
       "TTTGTCAGTTGTCTTT-1-BAL_scRNA_Sample10-Sarcoidosis  singlet   \n",
       "TTTGTCATCTTAGAGC-1-BAL_scRNA_Sample10-Sarcoidosis  singlet   \n",
       "\n",
       "                                                              Barcode  \\\n",
       "AAACCCAAGAGTCAAT-1-B3_RZ725-IPF                    AAACCCAAGAGTCAAT-1   \n",
       "AAACCCAAGCTTAAGA-1-B5_RZ725-SR-ILD                 AAACCCAAGCTTAAGA-1   \n",
       "AAACCCAAGGCGAAGG-1-B6_RZ725-Silicosis              AAACCCAAGGCGAAGG-1   \n",
       "AAACCCAAGGCGACAT-1-B2_RZ725-Silicosis              AAACCCAAGGCGACAT-1   \n",
       "AAACCCAAGTACAGCG-1-B6_RZ725-Silicosis              AAACCCAAGTACAGCG-1   \n",
       "...                                                               ...   \n",
       "TTTGTCAGTACCAGTT-1-BAL_scRNA_Sample10-Sarcoidosis  TTTGTCAGTACCAGTT-1   \n",
       "TTTGTCAGTTACGCGC-1-BAL_scRNA_Sample10-Sarcoidosis  TTTGTCAGTTACGCGC-1   \n",
       "TTTGTCAGTTATCGGT-1-BAL_scRNA_Sample10-Sarcoidosis  TTTGTCAGTTATCGGT-1   \n",
       "TTTGTCAGTTGTCTTT-1-BAL_scRNA_Sample10-Sarcoidosis  TTTGTCAGTTGTCTTT-1   \n",
       "TTTGTCATCTTAGAGC-1-BAL_scRNA_Sample10-Sarcoidosis  TTTGTCATCTTAGAGC-1   \n",
       "\n",
       "                                                  disease_final   sex  \\\n",
       "AAACCCAAGAGTCAAT-1-B3_RZ725-IPF                             IPF  male   \n",
       "AAACCCAAGCTTAAGA-1-B5_RZ725-SR-ILD                       SR-ILD  male   \n",
       "AAACCCAAGGCGAAGG-1-B6_RZ725-Silicosis                 Silicosis  male   \n",
       "AAACCCAAGGCGACAT-1-B2_RZ725-Silicosis                 Silicosis  male   \n",
       "AAACCCAAGTACAGCG-1-B6_RZ725-Silicosis                 Silicosis  male   \n",
       "...                                                         ...   ...   \n",
       "TTTGTCAGTACCAGTT-1-BAL_scRNA_Sample10-Sarcoidosis   Sarcoidosis  male   \n",
       "TTTGTCAGTTACGCGC-1-BAL_scRNA_Sample10-Sarcoidosis   Sarcoidosis  male   \n",
       "TTTGTCAGTTATCGGT-1-BAL_scRNA_Sample10-Sarcoidosis   Sarcoidosis  male   \n",
       "TTTGTCAGTTGTCTTT-1-BAL_scRNA_Sample10-Sarcoidosis   Sarcoidosis  male   \n",
       "TTTGTCATCTTAGAGC-1-BAL_scRNA_Sample10-Sarcoidosis   Sarcoidosis  male   \n",
       "\n",
       "                                                  age_at_sampling  \\\n",
       "AAACCCAAGAGTCAAT-1-B3_RZ725-IPF                                66   \n",
       "AAACCCAAGCTTAAGA-1-B5_RZ725-SR-ILD                             42   \n",
       "AAACCCAAGGCGAAGG-1-B6_RZ725-Silicosis                          24   \n",
       "AAACCCAAGGCGACAT-1-B2_RZ725-Silicosis                          23   \n",
       "AAACCCAAGTACAGCG-1-B6_RZ725-Silicosis                          24   \n",
       "...                                                           ...   \n",
       "TTTGTCAGTACCAGTT-1-BAL_scRNA_Sample10-Sarcoidosis              45   \n",
       "TTTGTCAGTTACGCGC-1-BAL_scRNA_Sample10-Sarcoidosis              45   \n",
       "TTTGTCAGTTATCGGT-1-BAL_scRNA_Sample10-Sarcoidosis              45   \n",
       "TTTGTCAGTTGTCTTT-1-BAL_scRNA_Sample10-Sarcoidosis              45   \n",
       "TTTGTCATCTTAGAGC-1-BAL_scRNA_Sample10-Sarcoidosis              45   \n",
       "\n",
       "                                                                                     antifibrotics  \\\n",
       "AAACCCAAGAGTCAAT-1-B3_RZ725-IPF                    None-butwentontoAccendatechclinicaltrialFeb2021   \n",
       "AAACCCAAGCTTAAGA-1-B5_RZ725-SR-ILD                                                            None   \n",
       "AAACCCAAGGCGAAGG-1-B6_RZ725-Silicosis                                                         None   \n",
       "AAACCCAAGGCGACAT-1-B2_RZ725-Silicosis                                                         None   \n",
       "AAACCCAAGTACAGCG-1-B6_RZ725-Silicosis                                                         None   \n",
       "...                                                                                            ...   \n",
       "TTTGTCAGTACCAGTT-1-BAL_scRNA_Sample10-Sarcoidosis                                               NA   \n",
       "TTTGTCAGTTACGCGC-1-BAL_scRNA_Sample10-Sarcoidosis                                               NA   \n",
       "TTTGTCAGTTATCGGT-1-BAL_scRNA_Sample10-Sarcoidosis                                               NA   \n",
       "TTTGTCAGTTGTCTTT-1-BAL_scRNA_Sample10-Sarcoidosis                                               NA   \n",
       "TTTGTCATCTTAGAGC-1-BAL_scRNA_Sample10-Sarcoidosis                                               NA   \n",
       "\n",
       "                                                                      immunosuppression  \\\n",
       "AAACCCAAGAGTCAAT-1-B3_RZ725-IPF                    None-buthadshortpredFeb2021forwheeze   \n",
       "AAACCCAAGCTTAAGA-1-B5_RZ725-SR-ILD                                                 None   \n",
       "AAACCCAAGGCGAAGG-1-B6_RZ725-Silicosis                                              None   \n",
       "AAACCCAAGGCGACAT-1-B2_RZ725-Silicosis                                              None   \n",
       "AAACCCAAGTACAGCG-1-B6_RZ725-Silicosis                                              None   \n",
       "...                                                                                 ...   \n",
       "TTTGTCAGTACCAGTT-1-BAL_scRNA_Sample10-Sarcoidosis                                    NA   \n",
       "TTTGTCAGTTACGCGC-1-BAL_scRNA_Sample10-Sarcoidosis                                    NA   \n",
       "TTTGTCAGTTATCGGT-1-BAL_scRNA_Sample10-Sarcoidosis                                    NA   \n",
       "TTTGTCAGTTGTCTTT-1-BAL_scRNA_Sample10-Sarcoidosis                                    NA   \n",
       "TTTGTCATCTTAGAGC-1-BAL_scRNA_Sample10-Sarcoidosis                                    NA   \n",
       "\n",
       "                                                  telomere_length  ...  \\\n",
       "AAACCCAAGAGTCAAT-1-B3_RZ725-IPF                      >10thcentile  ...   \n",
       "AAACCCAAGCTTAAGA-1-B5_RZ725-SR-ILD                   >10thcentile  ...   \n",
       "AAACCCAAGGCGAAGG-1-B6_RZ725-Silicosis                          NA  ...   \n",
       "AAACCCAAGGCGACAT-1-B2_RZ725-Silicosis                          NA  ...   \n",
       "AAACCCAAGTACAGCG-1-B6_RZ725-Silicosis                          NA  ...   \n",
       "...                                                           ...  ...   \n",
       "TTTGTCAGTACCAGTT-1-BAL_scRNA_Sample10-Sarcoidosis              NA  ...   \n",
       "TTTGTCAGTTACGCGC-1-BAL_scRNA_Sample10-Sarcoidosis              NA  ...   \n",
       "TTTGTCAGTTATCGGT-1-BAL_scRNA_Sample10-Sarcoidosis              NA  ...   \n",
       "TTTGTCAGTTGTCTTT-1-BAL_scRNA_Sample10-Sarcoidosis              NA  ...   \n",
       "TTTGTCATCTTAGAGC-1-BAL_scRNA_Sample10-Sarcoidosis              NA  ...   \n",
       "\n",
       "                                                  bal_cf_score  \\\n",
       "AAACCCAAGAGTCAAT-1-B3_RZ725-IPF                       0.981049   \n",
       "AAACCCAAGCTTAAGA-1-B5_RZ725-SR-ILD                    0.987569   \n",
       "AAACCCAAGGCGAAGG-1-B6_RZ725-Silicosis                 0.999173   \n",
       "AAACCCAAGGCGACAT-1-B2_RZ725-Silicosis                 0.999996   \n",
       "AAACCCAAGTACAGCG-1-B6_RZ725-Silicosis                 1.000000   \n",
       "...                                                        ...   \n",
       "TTTGTCAGTACCAGTT-1-BAL_scRNA_Sample10-Sarcoidosis     1.000000   \n",
       "TTTGTCAGTTACGCGC-1-BAL_scRNA_Sample10-Sarcoidosis     0.811490   \n",
       "TTTGTCAGTTATCGGT-1-BAL_scRNA_Sample10-Sarcoidosis     0.569074   \n",
       "TTTGTCAGTTGTCTTT-1-BAL_scRNA_Sample10-Sarcoidosis     0.998419   \n",
       "TTTGTCATCTTAGAGC-1-BAL_scRNA_Sample10-Sarcoidosis     1.000000   \n",
       "\n",
       "                                                           hclaV2_label  \\\n",
       "AAACCCAAGAGTCAAT-1-B3_RZ725-IPF                    Alveolar macrophages   \n",
       "AAACCCAAGCTTAAGA-1-B5_RZ725-SR-ILD                 Alveolar macrophages   \n",
       "AAACCCAAGGCGAAGG-1-B6_RZ725-Silicosis              Alveolar macrophages   \n",
       "AAACCCAAGGCGACAT-1-B2_RZ725-Silicosis              Alveolar macrophages   \n",
       "AAACCCAAGTACAGCG-1-B6_RZ725-Silicosis              Alveolar macrophages   \n",
       "...                                                                 ...   \n",
       "TTTGTCAGTACCAGTT-1-BAL_scRNA_Sample10-Sarcoidosis                   DC2   \n",
       "TTTGTCAGTTACGCGC-1-BAL_scRNA_Sample10-Sarcoidosis  Alveolar macrophages   \n",
       "TTTGTCAGTTATCGGT-1-BAL_scRNA_Sample10-Sarcoidosis  Alveolar macrophages   \n",
       "TTTGTCAGTTGTCTTT-1-BAL_scRNA_Sample10-Sarcoidosis  Alveolar macrophages   \n",
       "TTTGTCATCTTAGAGC-1-BAL_scRNA_Sample10-Sarcoidosis                   DC2   \n",
       "\n",
       "                                                   hclaV2_score  \\\n",
       "AAACCCAAGAGTCAAT-1-B3_RZ725-IPF                        0.991815   \n",
       "AAACCCAAGCTTAAGA-1-B5_RZ725-SR-ILD                     0.946023   \n",
       "AAACCCAAGGCGAAGG-1-B6_RZ725-Silicosis                  0.977244   \n",
       "AAACCCAAGGCGACAT-1-B2_RZ725-Silicosis                  0.983614   \n",
       "AAACCCAAGTACAGCG-1-B6_RZ725-Silicosis                  0.943015   \n",
       "...                                                         ...   \n",
       "TTTGTCAGTACCAGTT-1-BAL_scRNA_Sample10-Sarcoidosis      0.998542   \n",
       "TTTGTCAGTTACGCGC-1-BAL_scRNA_Sample10-Sarcoidosis      0.941766   \n",
       "TTTGTCAGTTATCGGT-1-BAL_scRNA_Sample10-Sarcoidosis      0.890885   \n",
       "TTTGTCAGTTGTCTTT-1-BAL_scRNA_Sample10-Sarcoidosis      0.999149   \n",
       "TTTGTCATCTTAGAGC-1-BAL_scRNA_Sample10-Sarcoidosis      0.999828   \n",
       "\n",
       "                                                   lung_pf_label  \\\n",
       "AAACCCAAGAGTCAAT-1-B3_RZ725-IPF                      Macrophages   \n",
       "AAACCCAAGCTTAAGA-1-B5_RZ725-SR-ILD                   Macrophages   \n",
       "AAACCCAAGGCGAAGG-1-B6_RZ725-Silicosis                Macrophages   \n",
       "AAACCCAAGGCGACAT-1-B2_RZ725-Silicosis                Macrophages   \n",
       "AAACCCAAGTACAGCG-1-B6_RZ725-Silicosis                Macrophages   \n",
       "...                                                          ...   \n",
       "TTTGTCAGTACCAGTT-1-BAL_scRNA_Sample10-Sarcoidosis           cDCs   \n",
       "TTTGTCAGTTACGCGC-1-BAL_scRNA_Sample10-Sarcoidosis    Macrophages   \n",
       "TTTGTCAGTTATCGGT-1-BAL_scRNA_Sample10-Sarcoidosis    Macrophages   \n",
       "TTTGTCAGTTGTCTTT-1-BAL_scRNA_Sample10-Sarcoidosis    Macrophages   \n",
       "TTTGTCATCTTAGAGC-1-BAL_scRNA_Sample10-Sarcoidosis           cDCs   \n",
       "\n",
       "                                                   lung_pf_score  \\\n",
       "AAACCCAAGAGTCAAT-1-B3_RZ725-IPF                         0.999847   \n",
       "AAACCCAAGCTTAAGA-1-B5_RZ725-SR-ILD                      0.998183   \n",
       "AAACCCAAGGCGAAGG-1-B6_RZ725-Silicosis                   0.990317   \n",
       "AAACCCAAGGCGACAT-1-B2_RZ725-Silicosis                   0.999571   \n",
       "AAACCCAAGTACAGCG-1-B6_RZ725-Silicosis                   0.999041   \n",
       "...                                                          ...   \n",
       "TTTGTCAGTACCAGTT-1-BAL_scRNA_Sample10-Sarcoidosis       0.559658   \n",
       "TTTGTCAGTTACGCGC-1-BAL_scRNA_Sample10-Sarcoidosis       0.992557   \n",
       "TTTGTCAGTTATCGGT-1-BAL_scRNA_Sample10-Sarcoidosis       0.996713   \n",
       "TTTGTCAGTTGTCTTT-1-BAL_scRNA_Sample10-Sarcoidosis       0.992370   \n",
       "TTTGTCATCTTAGAGC-1-BAL_scRNA_Sample10-Sarcoidosis       0.995303   \n",
       "\n",
       "                                                   lung_airway_label  \\\n",
       "AAACCCAAGAGTCAAT-1-B3_RZ725-IPF                       Macro_alveolar   \n",
       "AAACCCAAGCTTAAGA-1-B5_RZ725-SR-ILD                    Macro_alveolar   \n",
       "AAACCCAAGGCGAAGG-1-B6_RZ725-Silicosis                 Macro_alveolar   \n",
       "AAACCCAAGGCGACAT-1-B2_RZ725-Silicosis                 Macro_alveolar   \n",
       "AAACCCAAGTACAGCG-1-B6_RZ725-Silicosis                 Macro_alveolar   \n",
       "...                                                              ...   \n",
       "TTTGTCAGTACCAGTT-1-BAL_scRNA_Sample10-Sarcoidosis               DC_2   \n",
       "TTTGTCAGTTACGCGC-1-BAL_scRNA_Sample10-Sarcoidosis     Macro_alveolar   \n",
       "TTTGTCAGTTATCGGT-1-BAL_scRNA_Sample10-Sarcoidosis     Macro_alveolar   \n",
       "TTTGTCAGTTGTCTTT-1-BAL_scRNA_Sample10-Sarcoidosis     Macro_alveolar   \n",
       "TTTGTCATCTTAGAGC-1-BAL_scRNA_Sample10-Sarcoidosis               DC_2   \n",
       "\n",
       "                                                   lung_airway_score  \\\n",
       "AAACCCAAGAGTCAAT-1-B3_RZ725-IPF                             0.993530   \n",
       "AAACCCAAGCTTAAGA-1-B5_RZ725-SR-ILD                          0.995791   \n",
       "AAACCCAAGGCGAAGG-1-B6_RZ725-Silicosis                       0.354005   \n",
       "AAACCCAAGGCGACAT-1-B2_RZ725-Silicosis                       0.975494   \n",
       "AAACCCAAGTACAGCG-1-B6_RZ725-Silicosis                       0.999951   \n",
       "...                                                              ...   \n",
       "TTTGTCAGTACCAGTT-1-BAL_scRNA_Sample10-Sarcoidosis           0.999983   \n",
       "TTTGTCAGTTACGCGC-1-BAL_scRNA_Sample10-Sarcoidosis           0.999213   \n",
       "TTTGTCAGTTATCGGT-1-BAL_scRNA_Sample10-Sarcoidosis           0.998390   \n",
       "TTTGTCAGTTGTCTTT-1-BAL_scRNA_Sample10-Sarcoidosis           0.998125   \n",
       "TTTGTCATCTTAGAGC-1-BAL_scRNA_Sample10-Sarcoidosis           0.999990   \n",
       "\n",
       "                                                   scim_predictions_constrained  \\\n",
       "AAACCCAAGAGTCAAT-1-B3_RZ725-IPF                             alveolar macrophage   \n",
       "AAACCCAAGCTTAAGA-1-B5_RZ725-SR-ILD                          alveolar macrophage   \n",
       "AAACCCAAGGCGAAGG-1-B6_RZ725-Silicosis                       alveolar macrophage   \n",
       "AAACCCAAGGCGACAT-1-B2_RZ725-Silicosis                       alveolar macrophage   \n",
       "AAACCCAAGTACAGCG-1-B6_RZ725-Silicosis                       alveolar macrophage   \n",
       "...                                                                         ...   \n",
       "TTTGTCAGTACCAGTT-1-BAL_scRNA_Sample10-Sarcoidosis   conventional dendritic cell   \n",
       "TTTGTCAGTTACGCGC-1-BAL_scRNA_Sample10-Sarcoidosis           alveolar macrophage   \n",
       "TTTGTCAGTTATCGGT-1-BAL_scRNA_Sample10-Sarcoidosis           alveolar macrophage   \n",
       "TTTGTCAGTTGTCTTT-1-BAL_scRNA_Sample10-Sarcoidosis           alveolar macrophage   \n",
       "TTTGTCATCTTAGAGC-1-BAL_scRNA_Sample10-Sarcoidosis                    macrophage   \n",
       "\n",
       "                                                   scim_predictions_unconstrained  \\\n",
       "AAACCCAAGAGTCAAT-1-B3_RZ725-IPF                               alveolar macrophage   \n",
       "AAACCCAAGCTTAAGA-1-B5_RZ725-SR-ILD                            alveolar macrophage   \n",
       "AAACCCAAGGCGAAGG-1-B6_RZ725-Silicosis                         alveolar macrophage   \n",
       "AAACCCAAGGCGACAT-1-B2_RZ725-Silicosis                         alveolar macrophage   \n",
       "AAACCCAAGTACAGCG-1-B6_RZ725-Silicosis                         alveolar macrophage   \n",
       "...                                                                           ...   \n",
       "TTTGTCAGTACCAGTT-1-BAL_scRNA_Sample10-Sarcoidosis     conventional dendritic cell   \n",
       "TTTGTCAGTTACGCGC-1-BAL_scRNA_Sample10-Sarcoidosis             alveolar macrophage   \n",
       "TTTGTCAGTTATCGGT-1-BAL_scRNA_Sample10-Sarcoidosis             alveolar macrophage   \n",
       "TTTGTCAGTTGTCTTT-1-BAL_scRNA_Sample10-Sarcoidosis             alveolar macrophage   \n",
       "TTTGTCATCTTAGAGC-1-BAL_scRNA_Sample10-Sarcoidosis                      macrophage   \n",
       "\n",
       "                                                   scimilarity_distance  \n",
       "AAACCCAAGAGTCAAT-1-B3_RZ725-IPF                                0.024374  \n",
       "AAACCCAAGCTTAAGA-1-B5_RZ725-SR-ILD                             0.021422  \n",
       "AAACCCAAGGCGAAGG-1-B6_RZ725-Silicosis                          0.037640  \n",
       "AAACCCAAGGCGACAT-1-B2_RZ725-Silicosis                          0.022384  \n",
       "AAACCCAAGTACAGCG-1-B6_RZ725-Silicosis                          0.011204  \n",
       "...                                                                 ...  \n",
       "TTTGTCAGTACCAGTT-1-BAL_scRNA_Sample10-Sarcoidosis              0.044894  \n",
       "TTTGTCAGTTACGCGC-1-BAL_scRNA_Sample10-Sarcoidosis              0.049849  \n",
       "TTTGTCAGTTATCGGT-1-BAL_scRNA_Sample10-Sarcoidosis              0.040485  \n",
       "TTTGTCAGTTGTCTTT-1-BAL_scRNA_Sample10-Sarcoidosis              0.033229  \n",
       "TTTGTCATCTTAGAGC-1-BAL_scRNA_Sample10-Sarcoidosis              0.052146  \n",
       "\n",
       "[93983 rows x 32 columns]"
      ]
     },
     "execution_count": 7,
     "metadata": {},
     "output_type": "execute_result"
    }
   ],
   "source": [
    "adata.obs"
   ]
  },
  {
   "cell_type": "markdown",
   "id": "93338ca5-574c-4753-8725-22c855d8e7fa",
   "metadata": {},
   "source": [
    "# Normalization"
   ]
  },
  {
   "cell_type": "markdown",
   "id": "2193fd92-b9b6-4e2b-9a3b-ade5088fbc11",
   "metadata": {},
   "source": [
    "## Shifted Logarithm"
   ]
  },
  {
   "cell_type": "code",
   "execution_count": 8,
   "id": "a03b96a9-19f8-4bd9-ae48-de55b0eebc36",
   "metadata": {
    "execution": {
     "iopub.execute_input": "2024-08-01T01:28:00.470274Z",
     "iopub.status.busy": "2024-08-01T01:28:00.469599Z",
     "iopub.status.idle": "2024-08-01T01:28:05.610826Z",
     "shell.execute_reply": "2024-08-01T01:28:05.609100Z",
     "shell.execute_reply.started": "2024-08-01T01:28:00.470215Z"
    }
   },
   "outputs": [],
   "source": [
    "adata.layers['counts'] = adata.X.copy()\n",
    "scales_counts = sc.pp.normalize_total(adata, target_sum=None, inplace=False)\n",
    "# log1p transform\n",
    "adata.layers[\"log1p_norm\"] = sc.pp.log1p(scales_counts[\"X\"], copy=True)"
   ]
  },
  {
   "cell_type": "code",
   "execution_count": 9,
   "id": "29a8fba5-bcce-437f-98b0-b2f31202dfca",
   "metadata": {
    "execution": {
     "iopub.execute_input": "2024-08-01T01:28:41.623132Z",
     "iopub.status.busy": "2024-08-01T01:28:41.622476Z",
     "iopub.status.idle": "2024-08-01T01:28:43.910396Z",
     "shell.execute_reply": "2024-08-01T01:28:43.909409Z",
     "shell.execute_reply.started": "2024-08-01T01:28:41.623074Z"
    }
   },
   "outputs": [
    {
     "data": {
      "image/png": "[encoded data removed]",
      "text/plain": [
       "<Figure size 1000x500 with 2 Axes>"
      ]
     },
     "metadata": {},
     "output_type": "display_data"
    }
   ],
   "source": [
    "fig, axes = plt.subplots(1, 2, figsize=(10, 5))\n",
    "p1 = sns.histplot(adata.obs[\"total_counts\"], bins=100, kde=False, ax=axes[0])\n",
    "axes[0].set_title(\"Total counts\")\n",
    "p2 = sns.histplot(adata.layers[\"log1p_norm\"].sum(1), bins=100, kde=False, ax=axes[1])\n",
    "axes[1].set_title(\"Shifted logarithm\")\n",
    "plt.show()"
   ]
  },
  {
   "cell_type": "markdown",
   "id": "7296512b-c8f1-4221-ab49-3af1c2798b9d",
   "metadata": {
    "execution": {
     "iopub.execute_input": "2024-06-24T05:33:03.878505Z",
     "iopub.status.busy": "2024-06-24T05:33:03.877636Z",
     "iopub.status.idle": "2024-06-24T05:33:03.897292Z",
     "shell.execute_reply": "2024-06-24T05:33:03.895732Z",
     "shell.execute_reply.started": "2024-06-24T05:33:03.878433Z"
    }
   },
   "source": [
    "# Integration"
   ]
  },
  {
   "cell_type": "markdown",
   "id": "eba7266a-d0d4-4591-9826-5bfe97ae7e83",
   "metadata": {},
   "source": [
    "## scVI\n",
    "\n",
    "One method of integration is fine-tuning the hyperparameters through the ray-tune package. Unfortunately there are some conflicting package versions that prevent me from using it so using scVI's default parameters but setting the max-epochs to 200."
   ]
  },
  {
   "cell_type": "code",
   "execution_count": 10,
   "id": "c6f3e800-e670-413f-9faa-b294979ca077",
   "metadata": {
    "execution": {
     "iopub.execute_input": "2024-08-01T01:29:12.097170Z",
     "iopub.status.busy": "2024-08-01T01:29:12.096249Z",
     "iopub.status.idle": "2024-08-01T01:29:12.109775Z",
     "shell.execute_reply": "2024-08-01T01:29:12.107946Z",
     "shell.execute_reply.started": "2024-08-01T01:29:12.097101Z"
    }
   },
   "outputs": [
    {
     "data": {
      "text/plain": [
       "Index(['Sample', 'Pool', 'Doublet', 'Barcode', 'disease_final', 'sex',\n",
       "       'age_at_sampling', 'antifibrotics', 'immunosuppression',\n",
       "       'telomere_length', 'smoking_0_ex1_current2', '10X_chemistry', 'n_genes',\n",
       "       'n_genes_by_counts', 'log1p_n_genes_by_counts', 'total_counts',\n",
       "       'log1p_total_counts', 'pct_counts_in_top_20_genes', 'pct_counts_mt',\n",
       "       'pct_counts_ribo', 'pct_counts_hb', 'bal_cf_label', 'bal_cf_score',\n",
       "       'hclaV2_label', 'hclaV2_score', 'lung_pf_label', 'lung_pf_score',\n",
       "       'lung_airway_label', 'lung_airway_score',\n",
       "       'scim_predictions_constrained', 'scim_predictions_unconstrained',\n",
       "       'scimilarity_distance'],\n",
       "      dtype='object')"
      ]
     },
     "execution_count": 10,
     "metadata": {},
     "output_type": "execute_result"
    }
   ],
   "source": [
    "adata.obs.keys()"
   ]
  },
  {
   "cell_type": "markdown",
   "id": "8ad1436a-fbbd-4fcd-a7a5-126dd4a1c863",
   "metadata": {},
   "source": [
    "Integrating at the Pool level as using Sample as a covariate led to overfitting."
   ]
  },
  {
   "cell_type": "code",
   "execution_count": 11,
   "id": "86e16169-dd6f-47f9-a2c8-52d51920c78e",
   "metadata": {
    "execution": {
     "iopub.execute_input": "2024-08-01T01:30:22.418617Z",
     "iopub.status.busy": "2024-08-01T01:30:22.417877Z",
     "iopub.status.idle": "2024-08-01T01:30:32.426006Z",
     "shell.execute_reply": "2024-08-01T01:30:32.425306Z",
     "shell.execute_reply.started": "2024-08-01T01:30:22.418551Z"
    }
   },
   "outputs": [],
   "source": [
    "scvi.model.SCVI.setup_anndata(adata, layer = 'counts',\n",
    "                             categorical_covariate_keys=['Pool', '10X_chemistry'],\n",
    "                             continuous_covariate_keys=['pct_counts_mt', 'total_counts', 'pct_counts_ribo'])\n"
   ]
  },
  {
   "cell_type": "code",
   "execution_count": 12,
   "id": "14581552-1eea-4409-9ddd-2f4de56b96fb",
   "metadata": {
    "execution": {
     "iopub.execute_input": "2024-08-01T01:30:50.499170Z",
     "iopub.status.busy": "2024-08-01T01:30:50.498405Z",
     "iopub.status.idle": "2024-08-01T01:31:01.788988Z",
     "shell.execute_reply": "2024-08-01T01:31:01.787808Z",
     "shell.execute_reply.started": "2024-08-01T01:30:50.499104Z"
    }
   },
   "outputs": [],
   "source": [
    "model = scvi.model.SCVI(adata)"
   ]
  },
  {
   "cell_type": "code",
   "execution_count": 13,
   "id": "4492768b-cad0-4be1-b540-2e3656a8ede9",
   "metadata": {
    "execution": {
     "iopub.execute_input": "2024-08-01T01:32:04.474428Z",
     "iopub.status.busy": "2024-08-01T01:32:04.473445Z"
    },
    "scrolled": true
   },
   "outputs": [
    {
     "name": "stderr",
     "output_type": "stream",
     "text": [
      "GPU available: True (cuda), used: True\n",
      "TPU available: False, using: 0 TPU cores\n",
      "HPU available: False, using: 0 HPUs\n",
      "LOCAL_RANK: 0 - CUDA_VISIBLE_DEVICES: [0]\n"
     ]
    },
    {
     "name": "stdout",
     "output_type": "stream",
     "text": [
      "Epoch 200/200: 100%|██████████| 200/200 [48:54<00:00, 14.57s/it, v_num=1, train_loss_step=7.09e+3, train_loss_epoch=7.33e+3]"
     ]
    },
    {
     "name": "stderr",
     "output_type": "stream",
     "text": [
      "`Trainer.fit` stopped: `max_epochs=200` reached.\n"
     ]
    },
    {
     "name": "stdout",
     "output_type": "stream",
     "text": [
      "Epoch 200/200: 100%|██████████| 200/200 [48:54<00:00, 14.67s/it, v_num=1, train_loss_step=7.09e+3, train_loss_epoch=7.33e+3]\n"
     ]
    }
   ],
   "source": [
    "model.train(max_epochs = 200, check_val_every_n_epoch=1, early_stopping = True)"
   ]
  },
  {
   "cell_type": "code",
   "execution_count": 14,
   "id": "8d9e45d9-1e54-439b-9c35-4de08fa1e3b0",
   "metadata": {},
   "outputs": [],
   "source": [
    "model.save('/scratch/ei56/pa3687/ild-pathwayAnalysis-bal-scRNA/models/bal_pool_chemistry_scvi_model/')"
   ]
  },
  {
   "cell_type": "code",
   "execution_count": null,
   "id": "a9d29a3a-2abc-4616-93ae-323d1f077865",
   "metadata": {},
   "outputs": [],
   "source": [
    "model = scvi.model.SCVI.load('/scratch/ei56/pa3687/ild-pathwayAnalysis-bal-scRNA/models/bal_pool_chemistry_scvi_model/', adata)"
   ]
  },
  {
   "cell_type": "code",
   "execution_count": 15,
   "id": "46fb74f8-5386-4381-9b29-52aecb84eb47",
   "metadata": {
    "execution": {
     "iopub.execute_input": "2024-08-01T05:58:10.570442Z",
     "iopub.status.busy": "2024-08-01T05:58:10.569459Z",
     "iopub.status.idle": "2024-08-01T05:58:10.826017Z",
     "shell.execute_reply": "2024-08-01T05:58:10.824462Z",
     "shell.execute_reply.started": "2024-08-01T05:58:10.570370Z"
    }
   },
   "outputs": [],
   "source": [
    "y = model.history['reconstruction_loss_validation']['reconstruction_loss_validation'].min()"
   ]
  },
  {
   "cell_type": "code",
   "execution_count": 16,
   "id": "00b65a09-266f-4585-b17e-f40f1f86e98f",
   "metadata": {
    "execution": {
     "iopub.execute_input": "2024-08-01T05:58:14.126553Z",
     "iopub.status.busy": "2024-08-01T05:58:14.125263Z",
     "iopub.status.idle": "2024-08-01T05:58:14.496612Z",
     "shell.execute_reply": "2024-08-01T05:58:14.495949Z",
     "shell.execute_reply.started": "2024-08-01T05:58:14.126481Z"
    }
   },
   "outputs": [
    {
     "data": {
      "image/png": "[encoded data removed]",
      "text/plain": [
       "<Figure size 640x480 with 1 Axes>"
      ]
     },
     "metadata": {},
     "output_type": "display_data"
    }
   ],
   "source": [
    "plt.plot(model.history['reconstruction_loss_train']['reconstruction_loss_train'], label='train')\n",
    "plt.plot(model.history['reconstruction_loss_validation']['reconstruction_loss_validation'], label='validation')\n",
    "\n",
    "plt.axhline(y, c = 'k')\n",
    "\n",
    "plt.legend()\n",
    "plt.show()"
   ]
  },
  {
   "cell_type": "code",
   "execution_count": 17,
   "id": "00d8580c-a556-4ca9-badf-dbe8a55bd299",
   "metadata": {
    "execution": {
     "iopub.execute_input": "2024-08-01T05:58:21.474678Z",
     "iopub.status.busy": "2024-08-01T05:58:21.473900Z",
     "iopub.status.idle": "2024-08-01T05:59:16.615756Z",
     "shell.execute_reply": "2024-08-01T05:59:16.614361Z",
     "shell.execute_reply.started": "2024-08-01T05:58:21.474608Z"
    }
   },
   "outputs": [],
   "source": [
    "adata.obsm['X_scVI'] = model.get_latent_representation()\n",
    "adata.layers['scvi_normalized'] = model.get_normalized_expression()"
   ]
  },
  {
   "cell_type": "code",
   "execution_count": 3,
   "id": "629a18a9",
   "metadata": {},
   "outputs": [],
   "source": [
    "# Save Integrated Scanpy Object\n",
    "# adata.write_h5ad('/scratch/ei56/pa3687/ild-pathwayAnalysis-bal-scRNA/data/03-final/integrated.h5ad')\n",
    "\n",
    "# Import Integrated Scanpy Object\n",
    "adata = sc.read_h5ad('/scratch/ei56/pa3687/ild-pathwayAnalysis-bal-scRNA/data/03-final/integrated.h5ad')"
   ]
  },
  {
   "cell_type": "markdown",
   "id": "a51c19a5",
   "metadata": {},
   "source": [
    "# Convert to Seurat"
   ]
  },
  {
   "cell_type": "code",
   "execution_count": null,
   "id": "eafbd699-44d9-4c56-8207-64bc76eceaf7",
   "metadata": {},
   "outputs": [],
   "source": [
    "# Convert to Seurat\n"
   ]
  }
 ],
 "metadata": {
  "kernelspec": {
   "display_name": "ild-bal-scrna",
   "language": "python",
   "name": "python3"
  },
  "language_info": {
   "codemirror_mode": {
    "name": "ipython",
    "version": 3
   },
   "file_extension": ".py",
   "mimetype": "text/x-python",
   "name": "python",
   "nbconvert_exporter": "python",
   "pygments_lexer": "ipython3",
   "version": "3.12.7"
  }
 },
 "nbformat": 4,
 "nbformat_minor": 5
}
